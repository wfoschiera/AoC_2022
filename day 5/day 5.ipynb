{
 "cells": [
  {
   "cell_type": "markdown",
   "metadata": {},
   "source": [
    "The expedition can depart as soon as the final supplies have been unloaded from the ships. Supplies are stored in stacks of marked crates, but because the needed supplies are buried under many other crates, the crates need to be rearranged.\n",
    "\n",
    "The ship has a giant cargo crane capable of moving crates between stacks. To ensure none of the crates get crushed or fall over, the crane operator will rearrange them in a series of carefully-planned steps. After the crates are rearranged, the desired crates will be at the top of each stack.\n",
    "\n",
    "The Elves don't want to interrupt the crane operator during this delicate procedure, but they forgot to ask her which crate will end up where, and they want to be ready to unload them as soon as possible so they can embark.\n",
    "\n",
    "They do, however, have a drawing of the starting stacks of crates and the rearrangement procedure (your puzzle input). For example:\n",
    "\n",
    ">     [D]    \n",
    "> [N] [C]    \n",
    "> [Z] [M] [P]\n",
    ">  1   2   3 \n",
    " \n",
    "\n",
    ">move 1 from 2 to 1  \n",
    "move 3 from 1 to 3  \n",
    "move 2 from 2 to 1  \n",
    "move 1 from 1 to 2  \n",
    "\n",
    "In this example, there are three stacks of crates. Stack 1 contains two crates: crate Z is on the bottom, and crate N is on top. Stack 2 contains three crates; from bottom to top, they are crates M, C, and D. Finally, stack 3 contains a single crate, P.\n",
    "\n",
    "Then, the rearrangement procedure is given. In each step of the procedure, a quantity of crates is moved from one stack to a different stack. In the first step of the above rearrangement procedure, one crate is moved from stack 2 to stack 1, resulting in this configuration:\n",
    "```\n",
    "[D]          \n",
    "[N] [C]      \n",
    "[Z] [M] [P]  \n",
    " 1   2   3   \n",
    " ```\n",
    "In the second step, three crates are moved from stack 1 to stack 3. Crates are moved one at a time, so the first crate to be moved (D) ends up below the second and third crates:\n",
    "```\n",
    "        [Z]\n",
    "        [N]\n",
    "[M]     [D]\n",
    "[C]     [P]\n",
    " 1   2   3\n",
    "```\n",
    "\n",
    "Then, both crates are moved from stack 2 to stack 1. Again, because crates are moved one at a time, crate C ends up below crate M:\n",
    "```\n",
    "        [Z]  \n",
    "        [N]  \n",
    "[M]     [D]  \n",
    "[C]     [P]  \n",
    " 1   2   3\n",
    "```\n",
    "Finally, one crate is moved from stack 1 to stack 2:\n",
    "```\n",
    "        [Z]  \n",
    "        [N]  \n",
    "        [D]  \n",
    "[C] [M] [P]  \n",
    " 1   2   3  \n",
    "```\n",
    "The Elves just need to know which crate will end up on top of each stack; in this example, the top crates are C in stack 1, M in stack 2, and Z in stack 3, so you should combine these together and give the Elves the message CMZ.\n",
    "\n",
    "After the rearrangement procedure completes, what crate ends up on top of each stack?"
   ]
  },
  {
   "cell_type": "code",
   "execution_count": 1,
   "metadata": {},
   "outputs": [],
   "source": [
    "import re\n",
    "from collections import defaultdict"
   ]
  },
  {
   "cell_type": "code",
   "execution_count": 78,
   "metadata": {},
   "outputs": [
    {
     "name": "stdout",
     "output_type": "stream",
     "text": [
      "['    [D]    ', '[N] [C]    ', '[Z] [M] [P]', ' 1   2   3 ', '', 'move 1 from 2 to 1', 'move 3 from 1 to 3', 'move 2 from 2 to 1', 'move 1 from 1 to 2']\n"
     ]
    }
   ],
   "source": [
    "with open(\"training_data.txt\", 'r') as txt_input:\n",
    "# with open(\"input.txt\", 'r') as txt_input:\n",
    "  data = txt_input.read().splitlines()\n",
    "print(data)\n"
   ]
  },
  {
   "cell_type": "markdown",
   "metadata": {},
   "source": [
    "## Training data"
   ]
  },
  {
   "cell_type": "code",
   "execution_count": 95,
   "metadata": {},
   "outputs": [],
   "source": [
    "cabecalho_training_data = data[:3]\n",
    "cabecalho_training_data.reverse()"
   ]
  },
  {
   "cell_type": "code",
   "execution_count": 127,
   "metadata": {},
   "outputs": [
    {
     "name": "stdout",
     "output_type": "stream",
     "text": [
      "[['Z', 'N'], ['M', 'C', 'D'], ['P']]\n"
     ]
    }
   ],
   "source": [
    "def extract_crates(cabecalho, range_line):\n",
    "    crates_stacked = defaultdict(list)\n",
    "    for line in cabecalho:\n",
    "        pos = 1\n",
    "        for box in range(range_line):\n",
    "            try:\n",
    "                crate = line[pos]\n",
    "            except:\n",
    "                continue\n",
    "            #print(crate)\n",
    "            if crate != \" \":\n",
    "                crates_stacked[box].append(crate)\n",
    "            pos += 4\n",
    "    crates = list(crates_stacked.values())\n",
    "    return crates\n",
    "crates = extract_crates(cabecalho_training_data, 3)\n",
    "print(crates)"
   ]
  },
  {
   "cell_type": "code",
   "execution_count": 80,
   "metadata": {},
   "outputs": [
    {
     "name": "stdout",
     "output_type": "stream",
     "text": [
      "['move 1 from 2 to 1', 'move 3 from 1 to 3', 'move 2 from 2 to 1', 'move 1 from 1 to 2']\n",
      "[[1, 2, 1], [3, 1, 3], [2, 2, 1], [1, 1, 2]]\n"
     ]
    }
   ],
   "source": [
    "commands_raw = data[5:]\n",
    "print(commands_raw)\n",
    "commands = []\n",
    "for i in commands_raw:\n",
    "    com = re.findall(r'\\d+', i)\n",
    "    com = list(map(int, com))\n",
    "    commands.append(com)\n",
    "print(commands)"
   ]
  },
  {
   "cell_type": "code",
   "execution_count": 39,
   "metadata": {},
   "outputs": [],
   "source": [
    "def move_crates(crates, qty_, from_, to_):\n",
    "    #     crates = [[\"Z\", \"N\"], [\"M\", \"C\", \"D\"], [\"P\"]]\n",
    "    orig_index = from_ - 1\n",
    "    dest_index = to_ - 1\n",
    "    orig = crates[orig_index]\n",
    "    dest = crates[dest_index]\n",
    "    for i in range(qty_):\n",
    "        dest.append(orig.pop())\n",
    "    crates[orig_index] = orig\n",
    "    crates[dest_index] = dest\n",
    "    return crates"
   ]
  },
  {
   "cell_type": "code",
   "execution_count": 40,
   "metadata": {},
   "outputs": [
    {
     "name": "stdout",
     "output_type": "stream",
     "text": [
      "[['C'], ['M'], ['P', 'D', 'N', 'Z']]\n",
      "C\n",
      "M\n",
      "Z\n"
     ]
    }
   ],
   "source": [
    "for com in commands:\n",
    "    crates = move_crates(crates, *com)\n",
    "print(crates)\n",
    "for c in crates:\n",
    "    print(c[-1])"
   ]
  },
  {
   "cell_type": "markdown",
   "metadata": {},
   "source": [
    "# Pra valer\n"
   ]
  },
  {
   "cell_type": "markdown",
   "metadata": {},
   "source": [
    "## Separando cabeçalho (crates)"
   ]
  },
  {
   "cell_type": "code",
   "execution_count": 116,
   "metadata": {},
   "outputs": [],
   "source": [
    "with open(\"input.txt\", 'r') as txt_input:\n",
    "  data = txt_input.read().splitlines()\n",
    "# print(data)\n"
   ]
  },
  {
   "cell_type": "code",
   "execution_count": 117,
   "metadata": {},
   "outputs": [
    {
     "name": "stdout",
     "output_type": "stream",
     "text": [
      "[['C', 'Z', 'N', 'B', 'M', 'W', 'Q', 'V'], ['H', 'Z', 'R', 'W', 'C', 'B'], ['F', 'Q', 'R', 'J'], ['Z', 'S', 'W', 'H', 'F', 'N', 'M', 'T'], ['G', 'F', 'W', 'L', 'N', 'Q', 'P'], ['L', 'P', 'W'], ['V', 'B', 'D', 'R', 'G', 'C', 'Q', 'J'], ['Z', 'Q', 'N', 'B', 'W'], ['H', 'L', 'F', 'C', 'G', 'T', 'J']]\n"
     ]
    }
   ],
   "source": [
    "cabecalho = data[:8]\n",
    "cabecalho.reverse()\n",
    "\n",
    "def extract_crates(cabecalho, range_line):\n",
    "    crates_stacked = defaultdict(list)\n",
    "    for line in cabecalho:\n",
    "        pos = 1\n",
    "        for box in range(range_line):\n",
    "            try:\n",
    "                crate = line[pos]\n",
    "            except:\n",
    "                continue\n",
    "            #print(crate)\n",
    "            if crate != \" \":\n",
    "                crates_stacked[box].append(crate)\n",
    "            pos += 4\n",
    "    crates = list(crates_stacked.values())\n",
    "    return crates\n",
    "crates = extract_crates(cabecalho, 9)\n",
    "print(crates)"
   ]
  },
  {
   "cell_type": "markdown",
   "metadata": {},
   "source": [
    "## ..."
   ]
  },
  {
   "cell_type": "code",
   "execution_count": 118,
   "metadata": {},
   "outputs": [
    {
     "name": "stdout",
     "output_type": "stream",
     "text": [
      "[[2, 1, 7], [6, 2, 6], [10, 7, 6], [4, 3, 1], [5, 6, 4], [1, 1, 9], [4, 6, 9], [12, 4, 1], [5, 1, 4], [7, 9, 8], [11, 8, 1], [6, 6, 2], [2, 5, 2], [3, 6, 3], [4, 9, 4], [2, 2, 5], [1, 6, 4], [3, 3, 6], [1, 8, 4], [1, 6, 1], [28, 1, 4], [28, 4, 5], [1, 9, 1], [4, 4, 1], [2, 6, 2], [2, 1, 6], [7, 4, 2], [14, 2, 9], [1, 4, 1], [1, 1, 2], [18, 5, 6], [2, 2, 6], [1, 9, 7], [8, 9, 2], [15, 6, 5], [1, 6, 3], [3, 2, 5], [1, 7, 5], [2, 1, 3], [3, 2, 1], [1, 6, 4], [5, 6, 5], [2, 2, 9], [35, 5, 7], [4, 9, 3], [1, 4, 1], [5, 1, 7], [6, 5, 3], [1, 9, 4], [11, 7, 6], [2, 9, 2], [1, 4, 7], [14, 7, 4], [5, 6, 9], [2, 2, 4], [6, 7, 9], [2, 9, 5], [6, 9, 5], [8, 4, 9], [5, 4, 3], [3, 5, 7], [1, 3, 9], [5, 3, 4], [7, 9, 8], [2, 7, 4], [4, 5, 7], [1, 5, 3], [5, 6, 4], [8, 4, 8], [5, 7, 6], [1, 4, 7], [3, 6, 9], [2, 6, 5], [7, 8, 3], [2, 5, 9], [17, 3, 1], [3, 1, 3], [6, 8, 9], [4, 4, 7], [6, 3, 5], [2, 8, 5], [14, 7, 5], [2, 4, 5], [6, 9, 5], [1, 7, 9], [1, 6, 9], [8, 1, 9], [8, 5, 2], [2, 1, 3], [7, 2, 6], [2, 3, 4], [1, 2, 6], [3, 1, 6], [16, 9, 4], [2, 9, 8], [1, 1, 6], [2, 9, 4], [1, 6, 9], [1, 6, 1], [1, 1, 7], [1, 6, 9], [1, 9, 3], [1, 3, 8], [1, 9, 2], [1, 2, 7], [2, 5, 3], [7, 5, 8], [2, 7, 9], [1, 6, 7], [3, 6, 9], [10, 8, 7], [1, 4, 3], [3, 3, 1], [1, 7, 1], [19, 4, 6], [3, 9, 7], [1, 9, 2], [2, 1, 7], [1, 9, 1], [12, 6, 9], [2, 7, 1], [1, 2, 4], [11, 6, 3], [1, 4, 8], [1, 6, 8], [11, 7, 9], [2, 8, 9], [18, 9, 6], [5, 3, 7], [5, 3, 8], [11, 5, 6], [26, 6, 4], [1, 6, 5], [1, 3, 7], [3, 8, 3], [1, 8, 7], [3, 3, 6], [5, 9, 3], [1, 4, 9], [8, 4, 5], [2, 7, 8], [3, 3, 6], [3, 4, 6], [7, 7, 4], [1, 9, 1], [5, 5, 3], [2, 9, 7], [3, 8, 2], [7, 3, 7], [1, 7, 6], [3, 5, 6], [7, 4, 8], [10, 4, 5], [2, 4, 2], [3, 7, 5], [2, 4, 1], [6, 8, 5], [5, 1, 4], [5, 4, 2], [5, 7, 8], [10, 2, 8], [3, 8, 3], [2, 5, 3], [13, 6, 1], [19, 5, 3], [12, 3, 9], [4, 8, 2], [2, 6, 7], [5, 8, 7], [9, 3, 9], [1, 5, 9], [2, 7, 6], [3, 2, 3], [15, 9, 3], [13, 3, 5], [1, 6, 2], [5, 5, 8], [1, 2, 5], [1, 7, 6], [6, 9, 6], [6, 6, 8], [4, 7, 1], [2, 3, 6], [11, 1, 9], [1, 2, 3], [4, 5, 6], [1, 1, 6], [10, 9, 2], [8, 2, 3], [3, 1, 2], [8, 3, 1], [5, 5, 4], [1, 9, 8], [2, 3, 7], [2, 4, 5], [6, 1, 6], [9, 8, 1], [16, 1, 9], [2, 7, 3], [3, 3, 8], [6, 9, 6], [1, 5, 4], [1, 3, 8], [5, 2, 1], [5, 1, 9], [2, 4, 9], [4, 8, 6], [1, 8, 7], [4, 8, 5], [2, 8, 2], [17, 9, 5], [11, 5, 7], [1, 2, 5], [1, 2, 5], [1, 9, 1], [1, 1, 6], [5, 7, 6], [20, 6, 7], [4, 6, 4], [15, 7, 8], [2, 3, 7], [1, 6, 5], [10, 8, 4], [1, 3, 6], [4, 6, 4], [13, 7, 8], [1, 7, 5], [1, 6, 3], [1, 6, 3], [1, 6, 9], [9, 4, 1], [3, 8, 2], [14, 5, 6], [2, 2, 8], [1, 3, 9], [14, 6, 2], [1, 3, 9], [1, 9, 3], [15, 2, 1], [1, 3, 9], [4, 4, 9], [10, 8, 5], [1, 9, 5], [1, 1, 5], [4, 8, 7], [3, 9, 3], [1, 8, 5], [1, 4, 7], [2, 8, 7], [6, 5, 6], [4, 1, 2], [1, 2, 5], [2, 2, 8], [2, 8, 1], [3, 7, 2], [3, 4, 9], [18, 1, 8], [1, 7, 3], [3, 9, 6], [1, 1, 5], [5, 6, 4], [2, 1, 9], [8, 4, 5], [4, 3, 2], [16, 5, 4], [8, 8, 6], [2, 2, 6], [1, 7, 6], [7, 8, 1], [1, 2, 3], [2, 8, 3], [4, 4, 9], [4, 1, 2], [1, 7, 2], [1, 5, 4], [1, 3, 7], [3, 4, 5], [1, 9, 6], [9, 2, 5], [2, 3, 6], [3, 5, 8], [3, 1, 7], [4, 5, 8], [1, 4, 3], [5, 9, 5], [5, 5, 8], [1, 3, 4], [4, 5, 1], [2, 5, 4], [13, 6, 2], [12, 2, 9], [3, 9, 2], [4, 1, 6], [8, 6, 2], [1, 4, 9], [3, 7, 9], [2, 9, 8], [1, 7, 2], [9, 9, 5], [2, 8, 6], [4, 2, 3], [1, 7, 2], [1, 6, 4], [4, 3, 9], [9, 5, 8], [10, 4, 2], [1, 4, 7], [1, 6, 2], [1, 6, 7], [13, 2, 6], [1, 2, 5], [6, 6, 5], [7, 5, 8], [1, 4, 5], [27, 8, 5], [3, 6, 3], [2, 8, 6], [8, 9, 5], [1, 7, 9], [1, 6, 2], [4, 5, 9], [2, 3, 4], [9, 2, 5], [1, 4, 1], [1, 4, 2], [1, 2, 4], [1, 3, 7], [1, 1, 3], [1, 3, 9], [6, 9, 4], [1, 7, 5], [13, 5, 2], [1, 9, 5], [1, 7, 2], [5, 2, 7], [8, 5, 7], [6, 4, 2], [1, 4, 5], [3, 2, 4], [4, 2, 7], [2, 4, 3], [13, 7, 3], [5, 2, 3], [4, 7, 8], [11, 3, 8], [11, 5, 9], [4, 6, 9], [1, 6, 5], [1, 4, 2], [1, 3, 6], [3, 2, 6], [3, 6, 2], [1, 6, 1], [1, 3, 8], [3, 3, 6], [2, 2, 7], [4, 3, 9], [16, 9, 2], [1, 7, 8], [2, 2, 8], [9, 2, 3], [6, 2, 7], [1, 6, 3], [2, 9, 2], [1, 9, 7], [2, 6, 3], [4, 3, 9], [2, 2, 7], [1, 2, 5], [14, 5, 6], [14, 6, 3], [4, 9, 8], [5, 8, 4], [1, 1, 5], [4, 8, 1], [1, 5, 9], [8, 7, 2], [18, 3, 7], [1, 1, 5], [1, 1, 9], [1, 4, 5], [1, 8, 5], [8, 2, 9], [3, 5, 8], [7, 7, 1], [3, 4, 7], [1, 3, 6], [7, 8, 3], [2, 9, 3], [3, 8, 9], [9, 1, 7], [9, 3, 4], [2, 3, 4], [12, 7, 4], [1, 3, 8], [1, 8, 7], [8, 4, 7], [11, 4, 9], [5, 4, 8], [19, 7, 9], [1, 6, 2], [2, 7, 4], [2, 8, 3], [1, 7, 8], [1, 3, 2], [3, 8, 4], [1, 8, 9], [1, 3, 2], [36, 9, 1], [5, 9, 6], [5, 4, 2], [24, 1, 3], [5, 6, 7], [1, 1, 4], [14, 3, 4], [4, 7, 3], [1, 8, 5], [5, 2, 9], [1, 1, 6], [5, 9, 1], [3, 2, 3], [1, 5, 3], [11, 4, 2], [1, 7, 1], [6, 1, 9], [3, 4, 2], [1, 6, 7], [10, 1, 7], [3, 2, 1], [3, 3, 2], [2, 1, 7], [1, 4, 8], [13, 3, 2], [1, 8, 3], [2, 7, 5], [2, 3, 7], [2, 5, 2], [1, 1, 7], [28, 2, 6], [1, 2, 3], [2, 8, 2], [6, 9, 7], [1, 3, 8], [1, 9, 8], [3, 6, 2], [14, 7, 9], [3, 2, 1], [2, 2, 9], [2, 1, 9], [1, 9, 1], [7, 6, 9], [2, 1, 4], [2, 4, 6], [4, 8, 7], [1, 7, 6], [1, 8, 1], [1, 3, 6], [1, 1, 5], [14, 9, 8], [1, 5, 9], [5, 7, 3], [16, 6, 3], [2, 7, 4], [8, 9, 5], [6, 6, 1], [8, 5, 9], [2, 7, 4], [11, 9, 1], [4, 4, 1], [14, 8, 3], [2, 1, 7], [20, 3, 6], [5, 3, 1], [1, 3, 5], [2, 7, 4], [20, 6, 7], [18, 7, 6], [17, 6, 9], [1, 5, 3], [6, 3, 2], [3, 3, 1], [1, 6, 2], [2, 7, 8], [4, 1, 5], [2, 4, 9], [1, 3, 2], [1, 8, 6], [18, 1, 4], [1, 2, 7], [1, 6, 2], [3, 4, 3], [1, 8, 1], [4, 1, 6], [7, 2, 1], [1, 5, 7], [1, 4, 1], [2, 6, 3], [3, 5, 9], [9, 9, 8], [10, 9, 3], [9, 3, 5]]\n"
     ]
    }
   ],
   "source": [
    "commands_raw = data[10:]\n",
    "commands = []\n",
    "for i in commands_raw:\n",
    "    com = re.findall(r'\\d+', i)\n",
    "    com = list(map(int, com))\n",
    "    commands.append(com)\n",
    "print(commands)"
   ]
  },
  {
   "cell_type": "code",
   "execution_count": 66,
   "metadata": {},
   "outputs": [],
   "source": [
    "def move_crates(crates, qty_, from_, to_):\n",
    "#     crates = [[\"Z\", \"N\"], [\"M\", \"C\", \"D\"], [\"P\"]]\n",
    "    orig_index = from_ - 1\n",
    "    dest_index = to_ - 1\n",
    "    orig = crates[orig_index]\n",
    "    dest = crates[dest_index]\n",
    "    for i in range(qty_):\n",
    "        dest.append(orig.pop())\n",
    "    crates[orig_index] = orig\n",
    "    crates[dest_index] = dest\n",
    "    return crates"
   ]
  },
  {
   "cell_type": "code",
   "execution_count": 67,
   "metadata": {},
   "outputs": [
    {
     "name": "stdout",
     "output_type": "stream",
     "text": [
      "[['M', 'M', 'C', 'C', 'T', 'D', 'W', 'F', 'R', 'Q'], ['N'], ['Z', 'W', 'C', 'H', 'Z', 'H'], ['T', 'L', 'F', 'Q', 'F', 'S', 'N', 'G', 'C', 'W', 'N', 'Q', 'W', 'W'], ['B', 'P', 'L', 'L', 'G', 'R', 'J', 'Q', 'J'], ['B', 'V'], ['V', 'J'], ['H', 'Q', 'N', 'B', 'B', 'Z', 'R', 'F', 'Z'], ['P', 'G', 'W']]\n",
      "QNHWJVJZW"
     ]
    }
   ],
   "source": [
    "for com in commands:\n",
    "    crates = move_crates(crates, *com)\n",
    "for c in crates:\n",
    "    print(c[-1], end='')"
   ]
  },
  {
   "cell_type": "markdown",
   "metadata": {},
   "source": [
    "# Parte 2"
   ]
  },
  {
   "cell_type": "code",
   "execution_count": 141,
   "metadata": {},
   "outputs": [],
   "source": [
    "def move_crates_2(crates, qty_, from_, to_):\n",
    "    \n",
    "    orig_index = from_ - 1\n",
    "    dest_index = to_ - 1\n",
    "    orig = crates[orig_index]\n",
    "    \n",
    "    dest = crates[dest_index]\n",
    "    new_stack = []\n",
    "    \n",
    "    dest.extend(orig[-qty_:])\n",
    "\n",
    "    for i in range(qty_):\n",
    "        orig.pop()\n",
    "        \n",
    "    crates[orig_index] = orig\n",
    "    crates[dest_index] = dest\n",
    "    return crates"
   ]
  },
  {
   "cell_type": "code",
   "execution_count": 142,
   "metadata": {},
   "outputs": [
    {
     "name": "stdout",
     "output_type": "stream",
     "text": [
      "[['C', 'Z', 'N', 'B', 'M', 'W', 'Q', 'V'], ['H', 'Z', 'R', 'W', 'C', 'B'], ['F', 'Q', 'R', 'J'], ['Z', 'S', 'W', 'H', 'F', 'N', 'M', 'T'], ['G', 'F', 'W', 'L', 'N', 'Q', 'P'], ['L', 'P', 'W'], ['V', 'B', 'D', 'R', 'G', 'C', 'Q', 'J'], ['Z', 'Q', 'N', 'B', 'W'], ['H', 'L', 'F', 'C', 'G', 'T', 'J']]\n"
     ]
    }
   ],
   "source": [
    "crates = extract_crates(cabecalho, 9)\n",
    "print(crates)"
   ]
  },
  {
   "cell_type": "code",
   "execution_count": 143,
   "metadata": {},
   "outputs": [
    {
     "name": "stdout",
     "output_type": "stream",
     "text": [
      "BPCZJLFJW"
     ]
    }
   ],
   "source": [
    "for com in commands:\n",
    "    crates = move_crates_2(crates, *com)\n",
    "for c in crates:\n",
    "    print(c[-1], end='')\n"
   ]
  },
  {
   "cell_type": "code",
   "execution_count": null,
   "metadata": {},
   "outputs": [],
   "source": []
  }
 ],
 "metadata": {
  "kernelspec": {
   "display_name": "Python 3",
   "language": "python",
   "name": "python3"
  },
  "language_info": {
   "codemirror_mode": {
    "name": "ipython",
    "version": 3
   },
   "file_extension": ".py",
   "mimetype": "text/x-python",
   "name": "python",
   "nbconvert_exporter": "python",
   "pygments_lexer": "ipython3",
   "version": "3.8.10"
  }
 },
 "nbformat": 4,
 "nbformat_minor": 4
}
