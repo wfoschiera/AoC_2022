{
 "cells": [
  {
   "cell_type": "markdown",
   "metadata": {},
   "source": [
    "--- Day 3: Rucksack Reorganization ---\n",
    "One Elf has the important job of loading all of the rucksacks with supplies for the jungle journey. Unfortunately, that Elf didn't quite follow the packing instructions, and so a few items now need to be rearranged.\n",
    "\n",
    "Each rucksack has two large compartments. All items of a given type are meant to go into exactly one of the two compartments. The Elf that did the packing failed to follow this rule for exactly one item type per rucksack.\n",
    "\n",
    "The Elves have made a list of all of the items currently in each rucksack (your puzzle input), but they need your help finding the errors. Every item type is identified by a single lowercase or uppercase letter (that is, a and A refer to different types of items).\n",
    "\n",
    "The list of items for each rucksack is given as characters all on a single line. A given rucksack always has the same number of items in each of its two compartments, so the first half of the characters represent items in the first compartment, while the second half of the characters represent items in the second compartment.\n",
    "\n",
    "For example, suppose you have the following list of contents from six rucksacks:\n",
    "\n",
    "> vJrwpWtwJgWrhcsFMMfFFhFp  \n",
    "jqHRNqRjqzjGDLGLrsFMfFZSrLrFZsSL  \n",
    "PmmdzqPrVvPwwTWBwg  \n",
    "wMqvLMZHhHMvwLHjbvcjnnSBnvTQFn  \n",
    "ttgJtRGJQctTZtZT  \n",
    "CrZsJsPPZsGzwwsLwLmpwMDw  \n",
    "\n",
    "The first rucksack contains the items vJrwpWtwJgWrhcsFMMfFFhFp, which means its first compartment contains the items vJrwpWtwJgWr, while the second compartment contains the items hcsFMMfFFhFp. The only item type that appears in both compartments is lowercase p.\n",
    "The second rucksack's compartments contain jqHRNqRjqzjGDLGL and rsFMfFZSrLrFZsSL. The only item type that appears in both compartments is uppercase L.\n",
    "The third rucksack's compartments contain PmmdzqPrV and vPwwTWBwg; the only common item type is uppercase P.\n",
    "The fourth rucksack's compartments only share item type v.\n",
    "The fifth rucksack's compartments only share item type t.\n",
    "The sixth rucksack's compartments only share item type s.\n",
    "To help prioritize item rearrangement, every item type can be converted to a priority:\n",
    "\n",
    "Lowercase item types a through z have priorities 1 through 26.\n",
    "Uppercase item types A through Z have priorities 27 through 52.\n",
    "In the above example, the priority of the item type that appears in both compartments of each rucksack is 16 (p), 38 (L), 42 (P), 22 (v), 20 (t), and 19 (s); the sum of these is 157.\n",
    "\n",
    "Find the item type that appears in both compartments of each rucksack. What is the sum of the priorities of those item types?"
   ]
  },
  {
   "cell_type": "code",
   "execution_count": 54,
   "metadata": {},
   "outputs": [
    {
     "name": "stdout",
     "output_type": "stream",
     "text": [
      "['dtddvvhwttHJhwdhJPddhwJGppmGjgpQgTjQplQpTljwpg', 'BfzSzRSVVMVNRMDDNBSNSnfBmbrglGQbmNpQggFjpgpbQlQb', 'ZSBffLnVZdCCPJjhhL', 'RGCZpWWWFlHQQbgvFssg', 'jLnMzjnrnjjNjhrjdwbHscsVVgDVQPvPwh', 'nfJnLMLzjJMtnjNnnBbZtBWBqqbTTTBRpT', 'nddlhBtqTBqTVSlBtmCmVcRVmZggfWbcZc', 'jDjvPrPSNPwrDNRWbbgWCjRRCcWm', 'DzDwSpFrvrvFPQLzQnsqztBthTJnGJqlsJ', 'gssGmzwgRgsNmTsqgDnDJnbDHHhhzFdDDh', 'WQVFjMWrVQrVvVVjVctSSLSMZhnJZPBnbdnhbnHZZBDJBh', 'VCtcccVQLrfvrSlGmfTfNgfmlFgm', 'DsmfsBbNNZhDWsbmWmNbbPDHLFjcctjjGcnZGzncnctcGH', 'SwVQJrjVwpgSVRpjpVRrlTMCFFCLCFFcHzzGMcHrtHHH', 'ppVwTwSwpwvSlSlJTjVVbPhsvvBssWsNfsqWPvWs', 'BJwqwJtqqDDDrGDnPFzPFfpphD', 'TgZscCHQLSHgZcfMzpjFFjzsshfj', 'LcNlTVQCCVLLZTLNvpRtpvBBvRJmNB', 'bDBGQBBCTTNPGPPwPzcHfVHrDtLWLVrWVjjHWr', 'gpssqqsqlMFfLZQWftjVpr', 'lvqqFMRlFcQvbzCNCG', 'fhhMDdPhWMJMWvhhSfwRSGlzFbSFNlzw', 'LcqTCqcgZqjTggVjcwbFRwbDBTzbRGRwTS', 'cHLpZgnCHpQsDdsmQp', 'jwStJjJhtgJStpgwJMggQWqQTNTfNTWfbNNMCCNG', 'zRZnFPRZPVncPGVFRlRmGHCTqfCCPCHHfLfbTQCbTq', 'lnVmFZRZDnRVBFZcrZlhjpggvppthGhphpwprS', 'lcttSptHHllQbMcsrltSQGpvNBzpgWBBBDDGWzvgLz', 'PdjPVRFhFqFjRRCjzvRWnWLBLgbBBLzg', 'hhCCFbPTmjPdhZjhPhZCmTjjMsrJSfHrcmHJrHHmlcJSsmft', 'WhWnLZSSnSzQQhfLLNSfmDHrCFDDHtpjGGtTGQCG', 'gJbJBcMVwJlRRdbwvwJBVtjdtHHTmptpHTCtTFrFCp', 'JwwgvRMJlvJwgqgvqRMcnWWhLPzzsqfnZWnfWWnj', 'zdwTSvzHMvVSzDCtZhtGmbTGhm', 'lcBHfFjjgtsmDCgshD', 'cJPBnqNFnLfHJFPqljclqJzQvSSVWvSnMwvSzSWWdMWM', 'pNJMcZrsZDLDcbcccMpQffHqvgdwdFFmdmqwvqmgmzsw', 'hhnWjTTStRCGSMgvvgvdqvdFjvVz', 'hCTSWhPGttTCGBWMRlTCMSnPBDJpbDfDpNpbbNJfJDJbpJpN', 'lbcQcSNFchhQNqHLLqhLqrMpqM', 'WfsnsszPWfBBVpHdprrpdnGL', 'WTzWfwjtTBzwwBDzmfSSQmmbFZcpQNcbZZbv', 'PwSJSlmtPPgwgmHhPPvRvGHLRLQRBQGCQVGb', 'rnsFDnnfGGRWQRnW', 'dfTTfTFdfrfFFFzQFPJPSSlhqtllNPzgwS', 'MMbTFZrcrGZMDqNStWScDtzS', 'dvWmhQggQvCnfnqPqDnDjnfP', 'lgvdvLClWCQlgdhlrMBBHpGlwbHHGH', 'CQHgQpPdCQpsCpzRwSVRSzRZwZ', 'JbNBbcbrJvbJnqVznwwTzrzz', 'wNbfLvvfDNNBHPFLhddFsQss', 'VVzqvwzpqvzqNVVHGNqjHpNfSQDWdWwJdPWrWccdQrWrrDdd', 'nLcbtBRtBhcnWSJQlJSgll', 'tFbLLLRRhMtsBMtRCRsLCMBVjjvHTNjHHjzcvFFppGHzTT', 'QCPrPWNPlWjGGZqGmvdPGd', 'JgpHpSfphhfpVmBSgnTvdtddGvZVdvddDv', 'LhphBfHpSwSwfHcMgfpmBWWWbsNCjFWsljNbbjlLjb', 'QJmQbRmdfmdSQRQZSJltTltNvTrtDtrlftDD', 'wpZcHVwwMgBpWMVgWpHLphztDvvGvDPlnGvDLlNrDPnNPl', 'McgWFWHHHzVpMgZQFqbjsdjqqRCq', 'JPhLFfMJDLQnjNCvWWpdjjdM', 'crSwnwVnwSRBcNBNjjWCdC', 'GlbTGbsSzrtbmbfhnJQP', 'fDLSWVDRHHfVWHgPcZlDlZbbQhBcZQbb', 'jrmFmprTpFztmddjdjrpvBQlQZGhQbTsQbGcQbcbQs', 'nvqdpmjFnwpLSWlfnVNnWl', 'nZBRbBJzznNNCnJZwnBSCJMcpcTpcwhcqhmsmWMwFWLL', 'jQfvjgtfvPlHHqWpvWThpWqWch', 'VljjjgjQjrTDlDgrHtVCbnJZzNzNbnRNNJZrJR', 'MQtJnttlMLlJQsNhQrVVrFVWRRbbVFdJDD', 'vGjvzmjzgHqSjjSzmSGHTWbfDFWrbFzFfdDVrfRWDb', 'qPRqvTSPggqGgHCmllnCNLtnhcnnsnnw', 'zrlZsQMFrsgQFMMjMCbjVDCTCW', 'NqHNRdBppcJJcTpdmRfHThpdDWDtvbWVtbLjWbttWqqCCbLt', 'mhJpJHTJmBhcJhwhgwzsQwSSlzQQzGlZ', 'TvsszlvnzRRVTqzVrqrjjZGPfQPFqPqG', 'mcNhDNchppWmWSNhdSmSCQNjPFjrfGjrgPFCrgFPgPgrLf', 'SDddWpdMWSwNDmMNwlJRQwJlsVRRvzlsHt', 'DTtggjsFFFTlPJhvctBqBqSRmSMBSRnmnRcm', 'fGfwZdrbHVLdbGdHHwwQGVwBBCMMfvCNRNSMMMSRBmmRCN', 'dGZzGHGVVbvHvHwbzpGbHLrwFDDFTtsglhFspgJshslTDJjT', 'CbzspssWwCPcvvplrfqfDCJrDqdllB', 'LjttnjNTNGgQQJdBrffTwB', 'nVtLSgggjFwtMczhvzpZbSZW', 'HCzCHHvWthWFHhssWCVmnqZrnqVrmrmgnbrqmN', 'wPPGBjQQGwGbSlSLwgnpnrBZnBBmnMNnMN', 'jTTbJlJjPPLPGHHTthhhHcFWTT', 'qRdvvPDrCpzPHzcdrrcRqtbJJgjhgtWjJgbWJtgCFb', 'GTwGwNscLllGTZmGSTZGlSBMnhggjbgtgbtbsgWFFMhbMF', 'ZSQBSmlmzcrdQRqz', 'cSpTRphwwghRfgSScqPpnDqDCjDjJJJJDvDLCvvn', 'BVmmQFQBQVNBVmsWlbQFGBBlCHTJznzHLHvvCnjjNLHJDLHD', 'MFsZZMbBGblbQTmQsFsQMMfPcPcwSpwtStgPphZtctPc', 'QZbbZBdjPBjbQQbZnSSltlfwWvlvwNtNjwFMMN', 'DLVqTJqpSVtfsptwfWpv', 'rcRRVVTSbPQBPrBZ', 'tjSgSjLFSnVjDWRsQj', 'lcdqhfFpqZGpZqznrVRWPrnWRVBsVG', 'FHddNNNHwTHMHvvS', 'qCSDSQlwBHNbgJrHnLJH', 'GRpRpRfnmRWWVWgVrF', 'jhdZjpnvGfTZZQPlCtqQQSsS', 'FMZSGWWBrZjMBZMrBWMGjjZDnCRqpgPnbRwPbFnvvqFnDR', 'QHcpfVVslfdVlQclcctqRgqgbsCwbCwPCCCPwD', 'NLHfLhclmmhdfNNpfQMBmZWBrJMmZWBzMrjj', 'pBMpRgBMQwzRthmzLC', 'HPcJvrvDbjvrFDcvWrHfHfWHmdddtdTLztmtdtfllmNdNhNz', 'DvPFDvnPJLngQsggMGGQ', 'BbcFHvbhhDbbTSvZmwwgJPPlDlZldd', 'prCrNLMNgWWJBdrJ', 'fQMLCfLLtpqsNNMnnfBhcBSVGbhhhcqVbcjc', 'ZchcZZjmmNpgmJtgmM', 'RLrHllWrQZQGlBpbGFGFFM', 'RQnLHrqPLnZHzqjfVPcvVTfCvPTC', 'fMtwjfMwrbjfGrtrpPGrwpNNVNVqcbdVqHZTFNbcHSNL', 'mgzvDnJmnJhFJHSTNqZLHncHLS', 'vRzhzslJFhRffPPQMjGtGl', 'VMMNjWppQVwzNWrZdrrtMCMZCtMT', 'ngDScLcvPPgDPDGhGDPGSHVbHTHmZtTSrBHZbZBmBb', 'LhlglLghnVlplswJjs', 'bGJQZZTQQLJJbQZlTZLjCGQTsDhWFhmshhvjWVFVVrgtDsst', 'NScqwHcwwnnzBwqPqqsmVNhgsDDVtsghrFFg', 'pcrcwnpcffrcBzfbCRLpRLMMRlRLQl', 'hzCzCzpRgCzzzCctNsNWNqsZqZhPqNPb', 'TdBwmdrrrDmvwTvqNsSRssPlsWsq', 'FDBRRHDMTmBfmrmngnpjGgVptMgLCp', 'ZPLLnSPMFGvFZMSvHhDhqHfqvfqbDW', 'GgcppCgBcrQBBgplrVddhDqqqfdHgWdfqb', 'CcCjQszmGBQjrcCwCmCccPwPTPnMPTnMJSMMRZSPJL', 'LcVVcqqSHRLzRnCfNnGzNW', 'LZPPdljlCggMjgNM', 'PTvwlPtwtlJvZTQvbcHppFLHVVTcFssF', 'fpWzvzNgWJBVfBJzWzBVJNzWbZcbHhlbthjlrrPrjZZPHZhJ', 'hRDmGCFDwQnStncrjnccHcMP', 'GmmsGRmFTsFwSCsRQDsCSqqpfvfgzddWggvqdpfBWzVh', 'wjRBFljJGDFwwlGGpBSjGDtwTVtTgHHHsHHsVTVzsHqq', 'CPLNPdbWvbMWbcmvPNdLVqtsHqgCqHChZhhsVsHt', 'PWcPfPvmvNQbbWdWpJjJBDptGnDFjftn', 'mFFmJpDMmmnJFjWDVclsSpcflSsQwSsc', 'HrjNNjHNfVwLNSSl', 'tdZbhjHZHPbdCTvbbhhrGbbHMFmRMvnRRFmmvJMDmgJDJMnq', 'szJZhshbsfZJjbttchPctdTnWnRWVWMMnBdLRpMnBz', 'SrNwvDSwrCmnVRvjpWLBBn', 'ggGmgNFrgSDwmNgrCmtPsZPsjQGsqPcsqqJP', 'gjSWSjJSWrWzppzW', 'MCMzHNGNqHfscsFtrtwscVcr', 'qGHNGNHLCnLmTCHfMMmNTzzldzgJlJZZgJljgTdD', 'QGTQtQzTmdTsGTLcdFTGzdtBBjtwvBBJDvDMHJgjJvww', 'lPlqsZWnDJjZvZgV', 'ShCfCRnWGFsRRRrF', 'lwGtndCrrmGCwdmhzQrBzrHvLVggPgHv', 'fjMjDZJqSDJfJqDNDjJffjZLHPHHFvVFzHBLgLFpFpBSgL', 'MsTZWRNZfJZZqMGVGhhlhhccRnhC', 'MMvncqvcHcSnsdzzgvdfQjpljpQVTdDQDRTRlVpQ', 'wLCrNtBFFHHThRlH', 'bPJtHmCWssqgGPvq', 'LvTLsmDWvTWqTsmqjRTmjwgdwgnMHMMFgdtHmBmFVn', 'rlSCJzCSfpGGlhznQdnwFhtHgBFwtV', 'SGZJJSSrVfCbGJLjPsWbvjRsPTqR', 'pNqVVDCMVMBpqJVdMNHrccGHrtNtTFFFrQ', 'hwmllWbvvbnPvbSvtrFhhJzzHztcTztT', 'WSnbnPbbbvlWlRvnsqqMgLRMjLgVLCJdRV', 'GphVTGVMtQwtJmtCJP', 'FRRsBBsFqRNZNNrgqBdRfCZvbmPgmQzJQPnmJbJmQPJPPmwj', 'RNqsFrRfZZsZWvNqWRFvrBZvWhhCGVplhlWTlTpSCLpMhWMD', 'RZRjgbZHjjhsSnRsZstDRStsTVpFhBqFphMqPPpTFQVMPFTM', 'zrcGJwNNdwJrfNdJWvGdJzdTlTFlqTVPFTVFPPBpqNTbBP', 'WwLdLGfrRLStCZbD', 'mrmTqJWTvDDppTDb', 'DGzBfCzNDzdMwnLlbn', 'FVZPFZFFZPgjmWZsDtsq', 'TpnFTnFRCgRgldMRnDnRcrcdbdPBHbtPqbVcccrH', 'WNWLfQQmfhhSNwmrcbSVqPtbZDZcPb', 'LQhwLQvQvNfJhJRDMGFRlCMDMD', 'vLFTDmjVvLgnNHPphN', 'lMClGCmsRdCnPzCccngCpz', 'dlGZwRsRrRwswGsdSbbZSbVDrVBmDWWWFJrTrFvFTmqV', 'SGsZRqGLWLLtZRHRRcLHGTlJjzgJpjzTpNTNJNWpTm', 'MPMPvFFvFBrPPDPMQMPChjgpNpSNTmmmpNlTDljlTz', 'vnhrvMvnhSRqqLqnfn', 'mGFrlBmFQNQFljhqqqqbmHMsTPRbWWCsLMWRsb', 'wnwtvpwVzDVpvzzwZppnctMLtMPWWCstTsWTsTLffRRW', 'vwDJgZnvZJFqgLBFGqgl', 'QdGltnWNWqTdqQWvWsMJcrTcFcrgshJRMs', 'BzPLCDPzzzzCCLLfCBzfSDmLMrDJMglrcRbbhRsFhMrRJcsM', 'fjSzwwHfSzPzfCVBHlpdjGnZqnZptqQWjGvG', 'VbJZbgVzvzmhQpQWpQzhDp', 'tHPPcGcFBlCctCGtGcBBNlDLMGfMLwWfwwqMLLJwQWwp', 'dCHTPTPJdTBFPdrZjgsjrjnmdgms', 'JJpBvJQBZVvcFqqnsWdWvjsn', 'DCfbDbTtbgfCSHqqNdFMPhPDFnPPDWsPjM', 'bTmzTNCTNmfqTgJQcpLrpZLzVlVL', 'dtTLntTjzTftnmwnqGGQHNmm', 'SWbShCPMBgBRRFSFtRZZmm', 'DlJPCJCgPWhttzpvdjcpVl', 'WdzsNvWMzNsMHWddWCVffqmSmScLPvLPgLgLPplrrPmL', 'BtnzbnBhbwttwtZlmmlgcwSrLgmmpm', 'bFhQtbGBTnjBBbjTtFBbVDzddDDfjdDDqNWVjWHj', 'ppmtpgLLZLCbMQvQQThdtrvPhV', 'BBlHBwHRjHqBzzbHHqjjQdDQTDhPQDvnQlrQDQvr', 'HGjFzwHNczbzRFcGzHGFSJSpspsmpssMLLSZCppmfs', 'MpGrMMMcTsHMVHcvbwwmmcRSmDmDmv', 'zCNptqCBQQLCNLCzbfvSvbSzSDRDSmSv', 'CNNqNgNQJNgQtCqLlllZdZhTrThsnHpVVssPTsGP', 'jhSGcShDrLcLLFcw', 'MVzQvQNZVLHvHPdhLW', 'qzhhQlVbgqjmSjJDsgmR', 'CFzSPCgcsVVzFgzSCsBJwjdwJtNllnwglJlp', 'QrvbqWvvLbmvDMMmbdwFWpNNwwwwptjJWn', 'RZRZZqvvvDbDHCRTGchHFSGG', 'SszgPSPPVltDlqtz', 'WfTdTBdQdFnWBBBhBhNjVJtpNsVlDDDHHJWp', 'hQhrLFsBwdQPggbRgPwRMg', 'frRppMMDMpDnJfprnZhrrhpzWgvvGCvvFzWFvzvVVWFGJB', 'TcmLwTsccqwqbPwsdwqdTPSvBvzzztvggVvQCGWQCLBvCv', 'sswNjscwmqjwSssjdZNMfHHlHhfrnrgnfR', 'JpBJBdmdzZzzpngmbCnlqnNbNM', 'MMTHGccLTLvwRMlRnnQnbblnRnSs', 'vVGtvMcjLVGHfHDrPPWZppBpJpfZZZ', 'FGJtlttPdPtGFldlPRGpJTVzSBSSggHgJjVmBMHjJm', 'rhbvqrQLrWqrWLLfqbjjgNmVNSgzTmNgNS', 'hsffZQqnqCfZzlPPGlRlcwDs', 'HDDdZpcFwHFRFcZqDctpRDHpwTCVwjrBTQTBLBLBJJBjjQTJ', 'ldlMzhlPshPbLrrVrQQCMQjB', 'glzNfWlvbHqSdNNNcF', 'jZCMtnZZHCZwBWMwCwtMmfPFfvHDvzHFLPmFDfvh', 'RcrQdRRdGTzGvDGmfgjh', 'TsQscdQsQNTNqQQpRrRVCCBMMJJWMMVNVjnNJM', 'zVPWhVzLzWBWHZnlqBllqlpRbGNdffscGNdbDRnNSfcG', 'MtvSFQQwMcpsGRNGFR', 'vvTwJJSgmCSMmjVPPJWWhzllWLVV', 'RjdfnJfmbVvVJVFQcs', 'rZDZGBBZVvLZLHFW', 'qPzTDPlVrjNgfCdmPd', 'bcjmQPrnbmVmsLVrLrjmcHGRWlZHHRwHpZRHWWwH', 'nFhqzFqJzDJfvfSFqFfGHWZZHGRJRWHZWdpWwZ', 'hBCtDSSFCTqCCFzSnzMrLNmrMNPTNMQPMmNL', 'qvNBSJVDJGGVSJbVDDVhDbbqPjpWpWzWrnpWvvWPMjnWnpWz', 'mlTltwcwMWTPfNTN', 'CtCwFmCgmcmlRFmFCtRCHgmDJsbBhVqsbBHVDbNHDHJqqb', 'csBFBsLrBGBWcgLcBvRgpRhbwRwlbQwbwQgD', 'DCqmDmtTRtRlhdlh', 'qnCmTNPmmCnSSzmzNzGLzLccGDBzGrBLvvcW', 'FjfBjHnHzPFwhvFFqh', 'bjRpGsNsPqQvPclb', 'NWGGWGrrZVZjsCLmDMMgzgrSnzSm', 'MDgmmsNCmZMWmHCZLrvnLBBjPLVlPVbW', 'zcJGQwJdFRnrBVzqzvPr', 'hTQwhJwcfTFddFdGSfcRQQGFsggsgsHHnSmgsgsmgCnHNZpC', 'BPfwzfsgsvfszvBRbQpttRVpJbJpVg', 'LhTmHLbmbcFTFrWCbFqhFHLHVRpVtQpZVVDVprnDMJtJQnVZ', 'TGWWbTFFGTqlHhqhSdNdNfNSldjjBfjv', 'zCzpWTccHlWcPzMljMttbJfjmlfm', 'DqqQVZZqVsqJnbbnmjbJJQ', 'ZRmDZsSgVmGLsVqsLDFvrcccHrcTWCgWHBCHcCWp', 'cvGlQMtQlPtQWWMlcGsrFwFdbgdbdGGDCDCwdd', 'VChVZNBVjTTfhNTFgzrzrJgSdzgzwf', 'THThZTqZRHZRqNVZNTVLjRCMmQsntQctMnsPmMmMcWtLMQ', 'pNRHrbNlNnRLNpMMMTrcGcGTcccz', 'ZttBmsJmZdjsvTTvvdBMjDhfMGWGDfDfcScjfD', 'CmtTtwvtCsgllNHPPFbLpC', 'NpQcvwwRHvdfRvQsNfBQNvfRhVmVMqsZMmMshjMMtWZtMmrm', 'CGHbSSzFLSSHzTnbLnCWMrtWMtjnZMhZrqZtqW', 'FzCPPzLbPgFJbHSPldNRpgNfvvccgvwf', 'nSjpnnhNchMQZMSScnshshncJCGwHGClwmHPZlJPTVZCwHJf', 'LvtzBTgLWgLPlPwHPLPJ', 'dTBDqRqFzzhQFhshhNhM', 'HjjdPsjnllHsbnnDnbTBzLBFBZLLpRFRcCHRFz', 'wqqWwQhQQMCQffqqhtwMGhpZFRRZvzWzFvBvpvmcRvZm', 'fGfghtNhthqJrQqMqMMSgDdbPjbssDbdSnjCdd', 'cqPwJJnnffBFqSfJFnDDPVplLdglGgLVjzGLdVSzVt', 'WHRTWNHsQTNbzsbCbTsvWrWtjlgVdLgLdvdgvmLjpGlgtm', 'ZMQrTbNHZNsHHrQCZrNDFzhwnMJcfnDhJPPPFh', 'LRCFbjNjbCZDmtmqmRRmLtFJBgWBBpvJMwBJvGjBBvMBgw', 'TTrlfHzccVllZhdQgdGMJWvgWgBndwpG', 'fVSshSVlsfslhsSHHSZtZZNmNFmtmbFCDF', 'SPGCBPDMtbcbCtchSMccDTTrrrTFTrsrMTWHTHFVWF', 'JmnzqVmmwwfpJpmdHRTRsdsTrFdrQp', 'LqwLgzJgnjqLwgGcVbtjDGjcVbhv', 'PQcMvrvMsvmdSPPVccmSJcSpGBWWWbBHfWWnfttJWnWJpJ', 'wDzqhjzmqRzDRwqDzNDbWtjWBBBtGbtHpHnnBf', 'zglRhDqqDZgRNmZQVCdcCPQvvdZv', 'RpVjRgvFjGBNWtBWFDtt', 'dcqQwlqMMsCLLfbgQmtD', 'snlgzsggTzSTSJTr', 'dLHhDdtlMngFcFsFLFzzsj', 'vWRGGRVrrWvvGQQJBRsmQzmsqnffqcNfNcfz', 'vSRVJBVBwTvWTnHphTgDgtMpDl', 'bvvGnnJbfPmfdgJJSVtwwCpTScVfNpSC', 'sjsZWDqBqqMRZsDjbWMVwtwNNcNtScRHpRRttp', 'hzhDqqWDzZzDZzZLQPJPdPnPvlrbGdlnFQ', 'PwWHTwzFvNHsNzmmMwzNWGQrCqCFjpZbpnGqrqnpbr', 'gRVRgJRJlDLSJddDccQVrtZnCqjndnrZdnqnqpdq', 'chhgSSJfQhRRcSSSSBLVfzmzHTNzMNsTNWHMMvMP', 'lftqSpBSvhlDBDlhBSczQGmcFMcMVVFMmGFWsm', 'rHLHTNdggsLLnwLHbTTgdrTMPPmMGWZGQQMzQVQFZQGM', 'gbJnrHHjnbrgLrRrHpBJvSBDDsfJsDtstq', 'dBTtFLTtVmpdLhMprSRSWMRSMR', 'QvJvQbjbCgCQRBhzzRsNWNBC', 'bjgGqQGbQnjGQgnQgbGgjJnDLHLdfPVtdDmLZdBFVVZttdTf']\n"
     ]
    }
   ],
   "source": [
    "with open(\"input.txt\", 'r') as txt_input:\n",
    "  data = txt_input.read().splitlines()\n",
    "print(data)"
   ]
  },
  {
   "cell_type": "markdown",
   "metadata": {},
   "source": [
    "# mapping item priority"
   ]
  },
  {
   "cell_type": "code",
   "execution_count": 34,
   "metadata": {},
   "outputs": [],
   "source": [
    "import string\n",
    "lower_case = string.ascii_lowercase\n",
    "upper_case = string.ascii_uppercase\n",
    "prio_lower = list(range(1, 27))\n",
    "prio_upper = list(range(27, 53))\n",
    "letters = lower_case + upper_case\n",
    "priority = prio_lower + prio_upper\n",
    "prio_map = res = dict(zip(letters, priority))"
   ]
  },
  {
   "cell_type": "code",
   "execution_count": 38,
   "metadata": {},
   "outputs": [
    {
     "name": "stdout",
     "output_type": "stream",
     "text": [
      "7848\n"
     ]
    }
   ],
   "source": [
    "sum_priorities = 0\n",
    "for i in data:\n",
    "    half_items = int(len(i)/2)\n",
    "    sack_a = i[:half_items]\n",
    "    sack_b = i[half_items:]\n",
    "    dup_item = list(set(sack_a).intersection(set(sack_b)))[0]\n",
    "    sum_priorities += prio_map[dup_item]\n",
    "print(sum_priorities)"
   ]
  },
  {
   "cell_type": "markdown",
   "metadata": {},
   "source": [
    "## Parte 2\n",
    "As you finish identifying the misplaced items, the Elves come to you with another issue.\n",
    "\n",
    "For safety, the Elves are divided into groups of three. Every Elf carries a badge that identifies their group. For efficiency, within each group of three Elves, the badge is the only item type carried by all three Elves. That is, if a group's badge is item type B, then all three Elves will have item type B somewhere in their rucksack, and at most two of the Elves will be carrying any other item type.\n",
    "\n",
    "The problem is that someone forgot to put this year's updated authenticity sticker on the badges. All of the badges need to be pulled out of the rucksacks so the new authenticity stickers can be attached.\n",
    "\n",
    "Additionally, nobody wrote down which item type corresponds to each group's badges. The only way to tell which item type is the right one is by finding the one item type that is common between all three Elves in each group.\n",
    "\n",
    "Every set of three lines in your list corresponds to a single group, but each group can have a different badge item type. So, in the above example, the first group's rucksacks are the first three lines:\n",
    "\n",
    "> vJrwpWtwJgWrhcsFMMfFFhFp  \n",
    "jqHRNqRjqzjGDLGLrsFMfFZSrLrFZsSL  \n",
    "PmmdzqPrVvPwwTWBwg  \n",
    "\n",
    "And the second group's rucksacks are the next three lines:\n",
    "\n",
    "> wMqvLMZHhHMvwLHjbvcjnnSBnvTQFn  \n",
    "ttgJtRGJQctTZtZT  \n",
    "CrZsJsPPZsGzwwsLwLmpwMDw  \n",
    "\n",
    "In the first group, the only item type that appears in all three rucksacks is lowercase r; this must be their badges. In the second group, their badge item type must be Z.\n",
    "\n",
    "Priorities for these items must still be found to organize the sticker attachment efforts: here, they are 18 (r) for the first group and 52 (Z) for the second group. The sum of these is 70.\n",
    "\n",
    "Find the item type that corresponds to the badges of each three-Elf group. What is the sum of the priorities of those item types?\n",
    "\n"
   ]
  },
  {
   "cell_type": "code",
   "execution_count": 55,
   "metadata": {},
   "outputs": [
    {
     "name": "stdout",
     "output_type": "stream",
     "text": [
      "2616\n"
     ]
    }
   ],
   "source": [
    "three_elf_sum_priorities = 0\n",
    "qty_lines = int(len(data) / 3)\n",
    "low_limit = 0\n",
    "upper_limit = 3\n",
    "for i in range(qty_lines):\n",
    "    elf_a, elf_b, elf_c = data[low_limit:upper_limit]\n",
    "    dup_item = list(set(elf_a).intersection(set(elf_b)))\n",
    "    trip_item = list(set(elf_c).intersection(dup_item))[0]\n",
    "    three_elf_sum_priorities += prio_map[trip_item]\n",
    "    low_limit += 3\n",
    "    upper_limit += 3\n",
    "print(three_elf_sum_priorities)"
   ]
  },
  {
   "cell_type": "code",
   "execution_count": 46,
   "metadata": {},
   "outputs": [
    {
     "name": "stdout",
     "output_type": "stream",
     "text": [
      "dtddvvhwttHJhwdhJPddhwJGppmGjgpQgTjQplQpTljwpg\n"
     ]
    }
   ],
   "source": [
    "a,b,c = data[0:3]\n",
    "print(a)\n"
   ]
  },
  {
   "cell_type": "code",
   "execution_count": null,
   "metadata": {},
   "outputs": [],
   "source": []
  }
 ],
 "metadata": {
  "kernelspec": {
   "display_name": "Python 3",
   "language": "python",
   "name": "python3"
  },
  "language_info": {
   "codemirror_mode": {
    "name": "ipython",
    "version": 3
   },
   "file_extension": ".py",
   "mimetype": "text/x-python",
   "name": "python",
   "nbconvert_exporter": "python",
   "pygments_lexer": "ipython3",
   "version": "3.8.10"
  }
 },
 "nbformat": 4,
 "nbformat_minor": 4
}
