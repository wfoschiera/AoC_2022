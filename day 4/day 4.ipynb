{
 "cells": [
  {
   "cell_type": "code",
   "execution_count": 33,
   "metadata": {},
   "outputs": [],
   "source": [
    "with open(\"input.txt\", 'r') as txt_input:\n",
    "  data = txt_input.read().splitlines()\n",
    "# print(data)"
   ]
  },
  {
   "cell_type": "markdown",
   "metadata": {},
   "source": [
    "## Preparing data"
   ]
  },
  {
   "cell_type": "code",
   "execution_count": 29,
   "metadata": {},
   "outputs": [
    {
     "name": "stdout",
     "output_type": "stream",
     "text": [
      "2\n"
     ]
    }
   ],
   "source": [
    "step_1 = []\n",
    "fully_contains = 0\n",
    "for i in data:\n",
    "    splitted = i.split(\",\")\n",
    "    elf_range = []\n",
    "    for j in splitted:\n",
    "        start, stop = j.split(\"-\")\n",
    "        elf = set(range(int(start), int(stop)+1))\n",
    "        # print(start, stop)\n",
    "        # print(elf)\n",
    "        elf_range.append(elf)\n",
    "    contains_1 = [x for x in elf_range[0] if x not in elf_range[1]]\n",
    "    contains_2 = [x for x in elf_range[1] if x not in elf_range[0]]\n",
    "    if contains_1 == [] or contains_2 == []:\n",
    "        fully_contains += 1\n",
    "#     step_1.append(fully_contains)\n",
    "print(fully_contains)"
   ]
  },
  {
   "cell_type": "markdown",
   "metadata": {},
   "source": [
    "## Part 2"
   ]
  },
  {
   "cell_type": "code",
   "execution_count": 34,
   "metadata": {},
   "outputs": [
    {
     "name": "stdout",
     "output_type": "stream",
     "text": [
      "811\n"
     ]
    }
   ],
   "source": [
    "partial_contains = 0\n",
    "for i in data:\n",
    "    #     print(data)\n",
    "    splitted = i.split(\",\")\n",
    "    elf_range = []\n",
    "    for j in splitted:\n",
    "        start, stop = j.split(\"-\")\n",
    "        elf = set(range(int(start), int(stop)+1))\n",
    "        # print(start, stop)\n",
    "        # print(elf)\n",
    "        elf_range.append(elf)\n",
    "    contains_1 = [x for x in elf_range[0] if x not in elf_range[1]]\n",
    "    #     contains_2 = [x for x in elf_range[1] if x not in elf_range[0]]\n",
    "    if len(contains_1) != len(elf_range[0]):\n",
    "        partial_contains += 1\n",
    "print(partial_contains)"
   ]
  },
  {
   "cell_type": "code",
   "execution_count": null,
   "metadata": {},
   "outputs": [],
   "source": []
  }
 ],
 "metadata": {
  "kernelspec": {
   "display_name": "Python 3",
   "language": "python",
   "name": "python3"
  },
  "language_info": {
   "codemirror_mode": {
    "name": "ipython",
    "version": 3
   },
   "file_extension": ".py",
   "mimetype": "text/x-python",
   "name": "python",
   "nbconvert_exporter": "python",
   "pygments_lexer": "ipython3",
   "version": "3.8.10"
  }
 },
 "nbformat": 4,
 "nbformat_minor": 4
}
