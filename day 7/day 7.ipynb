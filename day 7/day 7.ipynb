{
 "cells": [
  {
   "cell_type": "markdown",
   "metadata": {},
   "source": [
    "# --- Day 7: No Space Left On Device ---\n",
    "You can hear birds chirping and raindrops hitting leaves as the expedition proceeds. Occasionally, you can even hear much louder sounds in the distance; how big do the animals get out here, anyway?\n",
    "\n",
    "The device the Elves gave you has problems with more than just its communication system. You try to run a system update:\n",
    "\n",
    "```bash\n",
    "$ system-update --please --pretty-please-with-sugar-on-top\n",
    "Error: No space left on device\n",
    "```\n",
    "Perhaps you can delete some files to make space for the update?\n",
    "\n",
    "You browse around the filesystem to assess the situation and save the resulting terminal output (your puzzle input). For example:\n",
    "\n",
    "```bash\n",
    "$ cd /  \n",
    "$ ls  \n",
    "dir a  \n",
    "14848514 b.txt  \n",
    "8504156 c.dat  \n",
    "dir d  \n",
    "$ cd a  \n",
    "$ ls  \n",
    "dir e  \n",
    "29116 f  \n",
    "2557 g  \n",
    "62596 h.lst  \n",
    "$ cd e  \n",
    "$ ls  \n",
    "584 i  \n",
    "$ cd ..  \n",
    "$ cd ..  \n",
    "$ cd d  \n",
    "$ ls  \n",
    "4060174 j  \n",
    "8033020 d.log  \n",
    "5626152 d.ext  \n",
    "7214296 k  \n",
    "```\n",
    "The filesystem consists of a tree of files (plain data) and directories (which can contain other directories or files). The outermost directory is called /. You can navigate around the filesystem, moving into or out of directories and listing the contents of the directory you're currently in.\n",
    "\n",
    "Within the terminal output, lines that begin with $ are commands you executed, very much like some modern computers:\n",
    "\n",
    "__cd__ means change directory. This changes which directory is the current directory, but the specific result depends on the argument:  \n",
    "- cd x moves in one level: it looks in the current directory for the directory named x and makes it the current directory.  \n",
    "- cd .. moves out one level: it finds the directory that contains the current directory, then makes that directory the current directory.\n",
    "- cd / switches the current directory to the outermost directory, /.\n",
    "    \n",
    "ls means list. It prints out all of the files and directories immediately contained by the current directory:\n",
    "\n",
    "123 abc means that the current directory contains a file named abc with size 123.\n",
    "\n",
    "dir xyz means that the current directory contains a directory named xyz.\n",
    "\n",
    "Given the commands and output in the example above, you can determine that the filesystem looks visually like this:\n",
    "\n",
    "```bash\n",
    "- / (dir)\n",
    "  - a (dir)\n",
    "    - e (dir)\n",
    "      - i (file, size=584)\n",
    "    - f (file, size=29116)\n",
    "    - g (file, size=2557)\n",
    "    - h.lst (file, size=62596)\n",
    "  - b.txt (file, size=14848514)\n",
    "  - c.dat (file, size=8504156)\n",
    "  - d (dir)\n",
    "    - j (file, size=4060174)\n",
    "    - d.log (file, size=8033020)\n",
    "    - d.ext (file, size=5626152)\n",
    "    - k (file, size=7214296)\n",
    "```bash\n",
    "\n",
    "Here, there are four directories: / (the outermost directory), a and d (which are in /), and e (which is in a). These directories also contain files of various sizes.\n",
    "\n",
    "Since the disk is full, your first step should probably be to find directories that are good candidates for deletion. To do this, you need to determine the total size of each directory. The total size of a directory is the sum of the sizes of the files it contains, directly or indirectly. (Directories themselves do not count as having any intrinsic size.)\n",
    "\n",
    "The total sizes of the directories above can be found as follows:\n",
    "\n",
    "The total size of directory e is 584 because it contains a single file i of size 584 and no other directories.\n",
    "The directory a has total size 94853 because it contains files f (size 29116), g (size 2557), and h.lst (size 62596), plus file i indirectly (a contains e which contains i).\n",
    "Directory d has total size 24933642.\n",
    "As the outermost directory, / contains every file. Its total size is 48381165, the sum of the size of every file.\n",
    "To begin, find all of the directories with a total size of at most 100000, then calculate the sum of their total sizes. In the example above, these directories are a and e; the sum of their total sizes is 95437 (94853 + 584). (As in this example, this process can count files more than once!)\n",
    "\n",
    "Find all of the directories with a total size of at most 100000. What is the sum of the total sizes of those directories?"
   ]
  },
  {
   "cell_type": "markdown",
   "metadata": {},
   "source": [
    "## Reading data"
   ]
  },
  {
   "cell_type": "code",
   "execution_count": 39,
   "metadata": {},
   "outputs": [],
   "source": [
    "from collections import defaultdict"
   ]
  },
  {
   "cell_type": "code",
   "execution_count": 110,
   "metadata": {},
   "outputs": [
    {
     "name": "stdout",
     "output_type": "stream",
     "text": [
      "['$ cd /', '$ ls', 'dir brdsppd', 'dir dnjqmzgg', '126880 fmftdzrp.fwt', '173625 hhfqgzfj.qvt', 'dir lbbcfjl', 'dir mzdqcb', 'dir npppw', 'dir plmb', '6337 rfgtcj.tdn', 'dir szfw', '230140 vmc.cdf', '$ cd brdsppd', '$ ls', 'dir gjc', 'dir lcz', '218543 ndqmcv', 'dir qnj', 'dir rrdd', 'dir zppsglq', '$ cd gjc', '$ ls', 'dir bvctghh', '262132 cbczvmdf', '111855 dnltsq.fwv', '22416 fnrwscz.vwb', 'dir gwd', 'dir lsprzlbf', '$ cd bvctghh', '$ ls', 'dir lsprzlbf', 'dir lwfgnzz', 'dir tjslbpb', '$ cd lsprzlbf', '$ ls', '182522 hhfqgzfj.qvt', 'dir hts', '229288 jtpdh', 'dir lwfgnzz', '284594 szfw', '89639 tgdsjl', '$ cd hts', '$ ls', '11158 dnltsq.fwv', '52582 tchv', '$ cd ..', '$ cd lwfgnzz', '$ ls', 'dir tjslbpb', '$ cd tjslbpb', '$ ls', '58586 jtzmjgw.bql', '$ cd ..', '$ cd ..', '$ cd ..', '$ cd lwfgnzz', '$ ls', '199598 rlhz.pbs', '$ cd ..', '$ cd tjslbpb', '$ ls', '119666 fmzfs.glg', '$ cd ..', '$ cd ..', '$ cd gwd', '$ ls', 'dir bcfqd', '1631 hhfqgzfj.qvt', '$ cd bcfqd', '$ ls', '197168 cqvwnslp.ltw', '$ cd ..', '$ cd ..', '$ cd lsprzlbf', '$ ls', 'dir jwznh', '$ cd jwznh', '$ ls', 'dir lpm', 'dir ncs', 'dir vqprn', '$ cd lpm', '$ ls', '15172 bnw.rqm', '215818 flpbspn.stt', '$ cd ..', '$ cd ncs', '$ ls', 'dir rzdbw', '$ cd rzdbw', '$ ls', '15150 cvjldjt.gdc', '$ cd ..', '$ cd ..', '$ cd vqprn', '$ ls', '23882 njjjh', '$ cd ..', '$ cd ..', '$ cd ..', '$ cd ..', '$ cd lcz', '$ ls', '37587 gwcvttb.dhc', '195583 lsprzlbf.vng', '152648 tchv', '$ cd ..', '$ cd qnj', '$ ls', 'dir bpvl', '275640 cfvznj.bqc', 'dir lwfgnzz', '213007 nwbt.mct', '135231 twpf.pft', '165501 vmc.cdf', '88097 vmvs.hnr', 'dir znbdpp', '$ cd bpvl', '$ ls', 'dir nmzbpb', '$ cd nmzbpb', '$ ls', '129477 pjlvs.zcp', '$ cd ..', '$ cd ..', '$ cd lwfgnzz', '$ ls', 'dir lwfgnzz', 'dir rsbdcwjr', 'dir sgh', 'dir wvwmf', '$ cd lwfgnzz', '$ ls', '33186 ftcrfnmd', '$ cd ..', '$ cd rsbdcwjr', '$ ls', 'dir lsprzlbf', '$ cd lsprzlbf', '$ ls', 'dir jvcgnbs', '288445 pjmqm', '111585 szfw.drf', 'dir vnftvqf', '$ cd jvcgnbs', '$ ls', 'dir ctlwjnjz', 'dir lwfgnzz', 'dir tjslbpb', '$ cd ctlwjnjz', '$ ls', '72087 zmhnsmmf', '$ cd ..', '$ cd lwfgnzz', '$ ls', '151358 sqs', '$ cd ..', '$ cd tjslbpb', '$ ls', '112471 mftdzhwj.zvt', '$ cd ..', '$ cd ..', '$ cd vnftvqf', '$ ls', '120421 lsprzlbf.tqc', '$ cd ..', '$ cd ..', '$ cd ..', '$ cd sgh', '$ ls', '228239 szfw.dzv', '$ cd ..', '$ cd wvwmf', '$ ls', 'dir bcjfz', '$ cd bcjfz', '$ ls', '26284 bzhqwdjq.nzn', '$ cd ..', '$ cd ..', '$ cd ..', '$ cd znbdpp', '$ ls', 'dir szfw', '$ cd szfw', '$ ls', 'dir nthzqpws', 'dir snfmt', '$ cd nthzqpws', '$ ls', '96382 twhdbvtw.lbj', '$ cd ..', '$ cd snfmt', '$ ls', '133360 bjmgtpgh', '134215 vmc.cdf', '$ cd ..', '$ cd ..', '$ cd ..', '$ cd ..', '$ cd rrdd', '$ ls', '185903 cpgpgntt.tfn', '$ cd ..', '$ cd zppsglq', '$ ls', '41689 jvcgnbs.hrt', '169754 wgnpq', '$ cd ..', '$ cd ..', '$ cd dnjqmzgg', '$ ls', 'dir lsprzlbf', 'dir lwfgnzz', 'dir nmvj', 'dir sfpg', '$ cd lsprzlbf', '$ ls', 'dir lbw', '141416 sqs', '$ cd lbw', '$ ls', '48758 cjv', '235522 dnltsq.fwv', '$ cd ..', '$ cd ..', '$ cd lwfgnzz', '$ ls', '36709 bcmtmwcz', '$ cd ..', '$ cd nmvj', '$ ls', 'dir dqpw', 'dir tjslbpb', '$ cd dqpw', '$ ls', '10608 hhfqgzfj.qvt', '$ cd ..', '$ cd tjslbpb', '$ ls', '261140 qfzb', '$ cd ..', '$ cd ..', '$ cd sfpg', '$ ls', '8543 szfw', '69248 tjslbpb', '$ cd ..', '$ cd ..', '$ cd lbbcfjl', '$ ls', 'dir csnjp', 'dir drwpfn', '301956 hhfqgzfj.qvt', 'dir jvcgnbs', 'dir lsprzlbf', 'dir pdzlnm', '161886 tchv', '153858 vmc.cdf', '87849 wghtg', 'dir zhgchnld', '$ cd csnjp', '$ ls', 'dir ffgfmcm', 'dir gtd', 'dir lbjvqv', 'dir lwfgnzz', '11312 sqs', '$ cd ffgfmcm', '$ ls', 'dir bcnvw', 'dir lcf', 'dir lsprzlbf', '$ cd bcnvw', '$ ls', '111692 ftcvs.tcz', '173665 jpfh.hrs', '120561 lwfgnzz.zvd', 'dir ngtbzz', '29479 tchv', 'dir tjslbpb', '$ cd ngtbzz', '$ ls', 'dir czrqmh', 'dir jrhpnpw', 'dir lsprzlbf', '$ cd czrqmh', '$ ls', '225055 hhfqgzfj.qvt', '$ cd ..', '$ cd jrhpnpw', '$ ls', '206497 tjslbpb.zbv', '$ cd ..', '$ cd lsprzlbf', '$ ls', '66627 szfw.wtd', '$ cd ..', '$ cd ..', '$ cd tjslbpb', '$ ls', 'dir cgzlp', '116060 lsprzlbf', 'dir szfw', '128885 zht.ptf', '$ cd cgzlp', '$ ls', '18201 sqs', '$ cd ..', '$ cd szfw', '$ ls', '104128 tchv', '$ cd ..', '$ cd ..', '$ cd ..', '$ cd lcf', '$ ls', '137662 lwfgnzz', '$ cd ..', '$ cd lsprzlbf', '$ ls', '151745 fmcgs.tvh', '37707 gszw.jlm', 'dir lsprzlbf', '178133 rjw.wrq', 'dir szw', '267875 tchv', '198852 vmc.cdf', '$ cd lsprzlbf', '$ ls', '54734 lsprzlbf.hcq', '81537 lwfgnzz', '120990 qppfdrf', '$ cd ..', '$ cd szw', '$ ls', 'dir jtvschrd', 'dir zcnpls', '$ cd jtvschrd', '$ ls', 'dir gtz', '$ cd gtz', '$ ls', 'dir rdzzlm', '$ cd rdzzlm', '$ ls', '55063 tchv', '8813 zfwvvpvz.zzb', '$ cd ..', '$ cd ..', '$ cd ..', '$ cd zcnpls', '$ ls', '282808 dpmd', '$ cd ..', '$ cd ..', '$ cd ..', '$ cd ..', '$ cd gtd', '$ ls', '148653 cmchsg.zdr', '66537 hhfqgzfj.qvt', '125493 mdtmqbml.gnt', 'dir rwjdjqcs', 'dir tjslbpb', '$ cd rwjdjqcs', '$ ls', '77026 zpt.gfp', '$ cd ..', '$ cd tjslbpb', '$ ls', 'dir dfl', '$ cd dfl', '$ ls', '203731 qpsmsjgh.gvs', 'dir tjslbpb', '84386 vmc.cdf', 'dir zgh', '$ cd tjslbpb', '$ ls', 'dir lwfgnzz', '140021 qnp', '312305 svh.vqt', '$ cd lwfgnzz', '$ ls', '49701 lgffdn.gmr', '$ cd ..', '$ cd ..', '$ cd zgh', '$ ls', '138627 tchv', '$ cd ..', '$ cd ..', '$ cd ..', '$ cd ..', '$ cd lbjvqv', '$ ls', 'dir bnl', '$ cd bnl', '$ ls', 'dir gbv', 'dir lwfgnzz', '$ cd gbv', '$ ls', 'dir lsprzlbf', '36406 lsprzlbf.cfd', '$ cd lsprzlbf', '$ ls', '168615 hlhp.rvp', '$ cd ..', '$ cd ..', '$ cd lwfgnzz', '$ ls', '149511 cdpwjbpd', '$ cd ..', '$ cd ..', '$ cd ..', '$ cd lwfgnzz', '$ ls', '232898 dnltsq.fwv', '181665 hhfqgzfj.qvt', '62529 qfmhhvvq.prh', '57822 sqs', '$ cd ..', '$ cd ..', '$ cd drwpfn', '$ ls', 'dir fvgw', 'dir lsprzlbf', 'dir lwfgnzz', '104745 nqvlqd.mdb', '203189 qqpmz', '159549 tchv', 'dir tjslbpb', 'dir wnrns', '$ cd fvgw', '$ ls', 'dir tlzmplfl', '$ cd tlzmplfl', '$ ls', '29740 vmc.cdf', '30062 wgrm.dst', '181738 zqr', '$ cd ..', '$ cd ..', '$ cd lsprzlbf', '$ ls', 'dir lcqhctjl', 'dir ldr', 'dir tjslbpb', '$ cd lcqhctjl', '$ ls', '209114 bcfr.gpf', '$ cd ..', '$ cd ldr', '$ ls', '148649 fzh.pqm', '$ cd ..', '$ cd tjslbpb', '$ ls', '241013 dnltsq.fwv', '$ cd ..', '$ cd ..', '$ cd lwfgnzz', '$ ls', '288335 cdctnn', '67277 tchv', '$ cd ..', '$ cd tjslbpb', '$ ls', 'dir pblzrspg', 'dir qqgddb', '86103 sqs', '183539 tjslbpb.wrs', '$ cd pblzrspg', '$ ls', 'dir pgl', '$ cd pgl', '$ ls', '305421 lwfgnzz.jdz', '114244 tjslbpb', 'dir vzff', '$ cd vzff', '$ ls', '80591 rlww.htq', '86968 sqs', '$ cd ..', '$ cd ..', '$ cd ..', '$ cd qqgddb', '$ ls', 'dir szfw', '$ cd szfw', '$ ls', 'dir jtw', '$ cd jtw', '$ ls', '263 szfw.lzp', '$ cd ..', '$ cd ..', '$ cd ..', '$ cd ..', '$ cd wnrns', '$ ls', '203725 dnltsq.fwv', '77752 qrg.fnt', '$ cd ..', '$ cd ..', '$ cd jvcgnbs', '$ ls', '296356 lwfgnzz.svf', '294928 ptvdsngf', '$ cd ..', '$ cd lsprzlbf', '$ ls', 'dir lwfgnzz', 'dir tjslbpb', '$ cd lwfgnzz', '$ ls', '105095 tchv', '$ cd ..', '$ cd tjslbpb', '$ ls', '53558 hhfqgzfj.qvt', '189180 szfw', '$ cd ..', '$ cd ..', '$ cd pdzlnm', '$ ls', '76426 jwttcp.rjj', 'dir lsprzlbf', 'dir qldhzf', 'dir rtdsjf', 'dir sfdtljj', '69033 slhl.jst', '$ cd lsprzlbf', '$ ls', '71362 vgdr', '$ cd ..', '$ cd qldhzf', '$ ls', '303106 lsprzlbf.rbq', '$ cd ..', '$ cd rtdsjf', '$ ls', '45781 pzbgwrdm.lwt', 'dir rzc', '$ cd rzc', '$ ls', '297081 qqvlp', '86015 zthlr', '$ cd ..', '$ cd ..', '$ cd sfdtljj', '$ ls', '254377 ftw.fwg', 'dir jvcgnbs', '153393 lwfgnzz.dws', 'dir pnphc', '220821 wslttcn', '$ cd jvcgnbs', '$ ls', '92642 bzpvvlsn.gvt', '$ cd ..', '$ cd pnphc', '$ ls', '288388 lwfgnzz', '$ cd ..', '$ cd ..', '$ cd ..', '$ cd zhgchnld', '$ ls', '16588 ftgrpj.srl', '112044 vmc.cdf', '$ cd ..', '$ cd ..', '$ cd mzdqcb', '$ ls', 'dir bfphcs', 'dir cgjmj', 'dir jgcqqsh', 'dir jvcgnbs', 'dir lccjbtqs', 'dir lwfgnzz', 'dir pprvjm', 'dir szfw', 'dir tjslbpb', 'dir ztc', '$ cd bfphcs', '$ ls', '124148 wzt.qtr', '$ cd ..', '$ cd cgjmj', '$ ls', '28095 ddjdbdf', 'dir jvcgnbs', '169536 sqs', 'dir svbsrj', '159511 vmc.cdf', '$ cd jvcgnbs', '$ ls', 'dir crmsnch', 'dir jvcgnbs', '$ cd crmsnch', '$ ls', '195745 lsprzlbf.prh', '271424 tjslbpb', '227054 vmc.cdf', '$ cd ..', '$ cd jvcgnbs', '$ ls', '294249 vmc.cdf', '$ cd ..', '$ cd ..', '$ cd svbsrj', '$ ls', '49038 cspzcpqs', 'dir czltsqrg', '98084 ljhljcw', 'dir ntdjg', '202570 szfw.lpj', '$ cd czltsqrg', '$ ls', '207690 dnltsq.fwv', '208745 lnns.hsv', '40703 rgmjszf.vtd', '$ cd ..', '$ cd ntdjg', '$ ls', 'dir szfw', '$ cd szfw', '$ ls', '284994 qzwptr.ggb', '$ cd ..', '$ cd ..', '$ cd ..', '$ cd ..', '$ cd jgcqqsh', '$ ls', '2462 djfwggvp', '$ cd ..', '$ cd jvcgnbs', '$ ls', 'dir ftjprdj', '289965 zhlrstpt', '$ cd ftjprdj', '$ ls', 'dir wnmhs', '$ cd wnmhs', '$ ls', 'dir tjslbpb', '$ cd tjslbpb', '$ ls', 'dir jvcgnbs', '$ cd jvcgnbs', '$ ls', '160761 dnltsq.fwv', '$ cd ..', '$ cd ..', '$ cd ..', '$ cd ..', '$ cd ..', '$ cd lccjbtqs', '$ ls', 'dir jjrdbgtg', '77186 sqs', '116398 szfw.qjt', '182665 vmc.cdf', '248366 vqdjwsh', '$ cd jjrdbgtg', '$ ls', '237358 bdvbjs.sjp', '$ cd ..', '$ cd ..', '$ cd lwfgnzz', '$ ls', 'dir ggptdvr', 'dir jnb', 'dir lcpmzpr', '222506 lsprzlbf', '293605 qbjfqh', 'dir smvwg', '291643 tchv', '247095 vwdstb.pdw', 'dir wghpmnm', 'dir wtrbfrj', '$ cd ggptdvr', '$ ls', '184198 vmc.cdf', '$ cd ..', '$ cd jnb', '$ ls', '296536 dnltsq.fwv', '91419 jvcgnbs.cvq', '279635 rwt.wth', '$ cd ..', '$ cd lcpmzpr', '$ ls', '184769 hhfqgzfj.qvt', 'dir qwqcbdms', '236533 tjslbpb.bnc', '162397 vmvctfnw', 'dir wcc', '$ cd qwqcbdms', '$ ls', '232132 jgm.tfm', 'dir jnfmcnfh', '173727 mwrbndt', 'dir qshphcb', 'dir tjslbpb', '$ cd jnfmcnfh', '$ ls', 'dir rngnt', '$ cd rngnt', '$ ls', '236114 hhfqgzfj.qvt', '$ cd ..', '$ cd ..', '$ cd qshphcb', '$ ls', '78407 lsprzlbf.hpd', '$ cd ..', '$ cd tjslbpb', '$ ls', '30200 brbz', '171368 jvcgnbs.vwl', '236158 sqs', '285872 srfwnmb', 'dir znr', '$ cd znr', '$ ls', '108194 hhfqgzfj.qvt', '$ cd ..', '$ cd ..', '$ cd ..', '$ cd wcc', '$ ls', '167768 jvcgnbs', '289640 lgthn.cjn', '28517 lwfgnzz.chf', 'dir nvgfwn', '43738 rrg', '81011 sqs', '$ cd nvgfwn', '$ ls', '270370 hgnv.ssj', '98235 lwfgnzz.nfv', '$ cd ..', '$ cd ..', '$ cd ..', '$ cd smvwg', '$ ls', 'dir jvcgnbs', '77510 tchv', 'dir tgrm', '$ cd jvcgnbs', '$ ls', '287955 bqcnj.zzv', '119021 bsrtmzd', '3391 cnngp.mbf', '68540 qjmb.vjz', '149062 tchv', '$ cd ..', '$ cd tgrm', '$ ls', '112315 qzth', '277566 scqp', '$ cd ..', '$ cd ..', '$ cd wghpmnm', '$ ls', 'dir hpm', '$ cd hpm', '$ ls', '113354 hhfqgzfj.qvt', '$ cd ..', '$ cd ..', '$ cd wtrbfrj', '$ ls', 'dir ggrsgzvv', 'dir mvzzsl', 'dir szfw', 'dir vsqjb', '$ cd ggrsgzvv', '$ ls', 'dir dpv', 'dir gqtsmnr', 'dir lsprzlbf', 'dir pcjcm', '137203 tchv', '84711 tns.sdh', '$ cd dpv', '$ ls', '233264 dmd', 'dir fzlchpb', '293097 gwmspnm.qtp', '100283 jbbnssc.nnv', '$ cd fzlchpb', '$ ls', '150431 pdmzrs.rll', '$ cd ..', '$ cd ..', '$ cd gqtsmnr', '$ ls', 'dir jdml', 'dir jfqtjt', 'dir lwfgnzz', 'dir tjslbpb', '$ cd jdml', '$ ls', '148333 bwm.dnt', 'dir lsprzlbf', '$ cd lsprzlbf', '$ ls', 'dir cslvm', 'dir lwfgnzz', 'dir rllt', '265856 sqs', 'dir szfw', '56452 tchv', '$ cd cslvm', '$ ls', '266380 vmc.cdf', '$ cd ..', '$ cd lwfgnzz', '$ ls', 'dir tzghdrd', '$ cd tzghdrd', '$ ls', 'dir tjslbpb', 'dir vhv', '$ cd tjslbpb', '$ ls', 'dir jvcgnbs', '$ cd jvcgnbs', '$ ls', '18188 sqs', '$ cd ..', '$ cd ..', '$ cd vhv', '$ ls', '95547 jhhblnn.vzt', 'dir srgh', '$ cd srgh', '$ ls', '299624 lsprzlbf.dnr', '$ cd ..', '$ cd ..', '$ cd ..', '$ cd ..', '$ cd rllt', '$ ls', 'dir crpcbl', '308185 dnltsq.fwv', 'dir szfw', '$ cd crpcbl', '$ ls', '209445 dfds.mzh', '$ cd ..', '$ cd szfw', '$ ls', 'dir lsprzlbf', '159720 vmc.cdf', '$ cd lsprzlbf', '$ ls', '291090 tzrvpv', '$ cd ..', '$ cd ..', '$ cd ..', '$ cd szfw', '$ ls', '113605 fbrtbfjm', '$ cd ..', '$ cd ..', '$ cd ..', '$ cd jfqtjt', '$ ls', '119124 hhfqgzfj.qvt', '251412 jvcgnbs.zfm', 'dir rbv', 'dir tjslbpb', '142371 tjslbpb.czt', '65455 vmc.cdf', '47786 zjmtjsv', '$ cd rbv', '$ ls', '300632 dzssgm.pqn', '$ cd ..', '$ cd tjslbpb', '$ ls', '221545 pswrb.bsw', '$ cd ..', '$ cd ..', '$ cd lwfgnzz', '$ ls', '34086 wshbr.spm', '$ cd ..', '$ cd tjslbpb', '$ ls', '118394 djfwjd.fvl', '65377 qmgcpdr.qjz', '146317 tchv', '$ cd ..', '$ cd ..', '$ cd lsprzlbf', '$ ls', '195086 clqmgmq.gbw', 'dir cpgjgbdf', '109787 jmwshtg.snl', '305108 lsprzlbf', 'dir szfw', '174614 szfw.qjq', '105247 vmcf.rsm', '$ cd cpgjgbdf', '$ ls', 'dir vzddwsr', '$ cd vzddwsr', '$ ls', '91787 nwgfs', '$ cd ..', '$ cd ..', '$ cd szfw', '$ ls', '193316 tjslbpb', '$ cd ..', '$ cd ..', '$ cd pcjcm', '$ ls', 'dir lsprzlbf', '$ cd lsprzlbf', '$ ls', '210834 hvrpj.cdc', '29497 wcnf', '$ cd ..', '$ cd ..', '$ cd ..', '$ cd mvzzsl', '$ ls', 'dir rnrtf', '$ cd rnrtf', '$ ls', '221025 btwgwrp.ctj', '$ cd ..', '$ cd ..', '$ cd szfw', '$ ls', 'dir jvcgnbs', 'dir szfw', '31365 tjslbpb', '$ cd jvcgnbs', '$ ls', '250409 lwfgnzz.nvf', '66638 tchv', 'dir tlms', '$ cd tlms', '$ ls', '84192 lsprzlbf.pcm', '107549 nwqzqcmw.rls', '97234 svdqvwcz', '$ cd ..', '$ cd ..', '$ cd szfw', '$ ls', '45362 zsflqrtc', '$ cd ..', '$ cd ..', '$ cd vsqjb', '$ ls', 'dir vvnzdcbb', '$ cd vvnzdcbb', '$ ls', '144027 tchv', '$ cd ..', '$ cd ..', '$ cd ..', '$ cd ..', '$ cd pprvjm', '$ ls', 'dir hvst', '137237 lwfgnzz.qfp', 'dir szfw', '$ cd hvst', '$ ls', '100531 svmvncf', '$ cd ..', '$ cd szfw', '$ ls', '233868 hhfqgzfj.qvt', '$ cd ..', '$ cd ..', '$ cd szfw', '$ ls', '14971 tchv', '$ cd ..', '$ cd tjslbpb', '$ ls', '283684 lwfgnzz.wzv', '$ cd ..', '$ cd ztc', '$ ls', 'dir bwhfncdm', '161420 jvcgnbs', '135102 tchv', '$ cd bwhfncdm', '$ ls', '108615 lwfgnzz.msn', '$ cd ..', '$ cd ..', '$ cd ..', '$ cd npppw', '$ ls', '94593 cwdz.tlb', '258598 jsswljc', '245674 nmmfzscz', '$ cd ..', '$ cd plmb', '$ ls', 'dir dwnpl', 'dir lwfgnzz', '$ cd dwnpl', '$ ls', '15993 hhfqgzfj.qvt', '264944 vmc.cdf', '$ cd ..', '$ cd lwfgnzz', '$ ls', '154801 cnbmh.hsh', '$ cd ..', '$ cd ..', '$ cd szfw', '$ ls', '173334 lsprzlbf', 'dir lwfgnzz', '70693 szfw', '$ cd lwfgnzz', '$ ls', 'dir jgwzcgd', 'dir qgdcjq', 'dir spwcmrl', '$ cd jgwzcgd', '$ ls', 'dir jvcgnbs', 'dir nvtvcf', '$ cd jvcgnbs', '$ ls', '131852 cntlhf.mqq', '217305 dnltsq.fwv', '174110 jvcgnbs.njb', '179602 lwfgnzz.mth', 'dir pzcssdhv', 'dir qcmqmnpn', '227361 szfw', 'dir wmhhl', '$ cd pzcssdhv', '$ ls', '187518 gjfwbwnv', '115671 lsprzlbf', '$ cd ..', '$ cd qcmqmnpn', '$ ls', '197002 dlns', '40030 mmpp.ggt', '198158 tchv', '$ cd ..', '$ cd wmhhl', '$ ls', '168011 hhfqgzfj.qvt', '$ cd ..', '$ cd ..', '$ cd nvtvcf', '$ ls', 'dir rrzjjjhc', '$ cd rrzjjjhc', '$ ls', '33548 sqs', '$ cd ..', '$ cd ..', '$ cd ..', '$ cd qgdcjq', '$ ls', '252274 prshd.qdj', '$ cd ..', '$ cd spwcmrl', '$ ls', 'dir lslmr', 'dir szfw', '135076 tchv', '265608 vmc.cdf', '$ cd lslmr', '$ ls', '172247 rrvwsbl', '$ cd ..', '$ cd szfw', '$ ls', '192729 rnq']\n"
     ]
    }
   ],
   "source": [
    "with open(\"input.txt\", 'r') as txt_input:\n",
    "  data = txt_input.read().splitlines()\n",
    "print(data)"
   ]
  },
  {
   "cell_type": "code",
   "execution_count": 111,
   "metadata": {},
   "outputs": [
    {
     "name": "stdout",
     "output_type": "stream",
     "text": [
      "[{'brdsppd': {'gjc': {'bvctghh': {'lsprzlbf': {'hhfqgzfj.qvt': 182522, 'hts': {'dnltsq.fwv': 11158, 'tchv': 52582}, 'jtpdh': 229288, 'lwfgnzz': {'tjslbpb': {'jtzmjgw.bql': 58586}}, 'szfw': 284594, 'tgdsjl': 89639}, 'lwfgnzz': {'rlhz.pbs': 199598}, 'tjslbpb': {'fmzfs.glg': 119666}}, 'cbczvmdf': 262132, 'dnltsq.fwv': 111855, 'fnrwscz.vwb': 22416, 'gwd': {'bcfqd': {'cqvwnslp.ltw': 197168}, 'hhfqgzfj.qvt': 1631}, 'lsprzlbf': {'jwznh': {'lpm': {'bnw.rqm': 15172, 'flpbspn.stt': 215818}, 'ncs': {'rzdbw': {'cvjldjt.gdc': 15150}}, 'vqprn': {'njjjh': 23882}}}}, 'lcz': {'gwcvttb.dhc': 37587, 'lsprzlbf.vng': 195583, 'tchv': 152648}, 'ndqmcv': 218543, 'qnj': {'bpvl': {'nmzbpb': {'pjlvs.zcp': 129477}}, 'cfvznj.bqc': 275640, 'lwfgnzz': {'lwfgnzz': {'ftcrfnmd': 33186}, 'rsbdcwjr': {'lsprzlbf': {'jvcgnbs': {'ctlwjnjz': {'zmhnsmmf': 72087}, 'lwfgnzz': {'sqs': 151358}, 'tjslbpb': {'mftdzhwj.zvt': 112471}}, 'pjmqm': 288445, 'szfw.drf': 111585, 'vnftvqf': {'lsprzlbf.tqc': 120421}}}, 'sgh': {'szfw.dzv': 228239}, 'wvwmf': {'bcjfz': {'bzhqwdjq.nzn': 26284}}}, 'nwbt.mct': 213007, 'twpf.pft': 135231, 'vmc.cdf': 165501, 'vmvs.hnr': 88097, 'znbdpp': {'szfw': {'nthzqpws': {'twhdbvtw.lbj': 96382}, 'snfmt': {'bjmgtpgh': 133360, 'vmc.cdf': 134215}}}}, 'rrdd': {'cpgpgntt.tfn': 185903}, 'zppsglq': {'jvcgnbs.hrt': 41689, 'wgnpq': 169754}}, 'dnjqmzgg': {'lsprzlbf': {'lbw': {'cjv': 48758, 'dnltsq.fwv': 235522}, 'sqs': 141416}, 'lwfgnzz': {'bcmtmwcz': 36709}, 'nmvj': {'dqpw': {'hhfqgzfj.qvt': 10608}, 'tjslbpb': {'qfzb': 261140}}, 'sfpg': {'szfw': 8543, 'tjslbpb': 69248}}, 'fmftdzrp.fwt': 126880, 'hhfqgzfj.qvt': 173625, 'lbbcfjl': {'csnjp': {'ffgfmcm': {'bcnvw': {'ftcvs.tcz': 111692, 'jpfh.hrs': 173665, 'lwfgnzz.zvd': 120561, 'ngtbzz': {'czrqmh': {'hhfqgzfj.qvt': 225055}, 'jrhpnpw': {'tjslbpb.zbv': 206497}, 'lsprzlbf': {'szfw.wtd': 66627}}, 'tchv': 29479, 'tjslbpb': {'cgzlp': {'sqs': 18201}, 'lsprzlbf': 116060, 'szfw': {'tchv': 104128}, 'zht.ptf': 128885}}, 'lcf': {'lwfgnzz': 137662}, 'lsprzlbf': {'fmcgs.tvh': 151745, 'gszw.jlm': 37707, 'lsprzlbf': {'lsprzlbf.hcq': 54734, 'lwfgnzz': 81537, 'qppfdrf': 120990}, 'rjw.wrq': 178133, 'szw': {'jtvschrd': {'gtz': {'rdzzlm': {'tchv': 55063, 'zfwvvpvz.zzb': 8813}}}, 'zcnpls': {'dpmd': 282808}}, 'tchv': 267875, 'vmc.cdf': 198852}}, 'gtd': {'cmchsg.zdr': 148653, 'hhfqgzfj.qvt': 66537, 'mdtmqbml.gnt': 125493, 'rwjdjqcs': {'zpt.gfp': 77026}, 'tjslbpb': {'dfl': {'qpsmsjgh.gvs': 203731, 'tjslbpb': {'lwfgnzz': {'lgffdn.gmr': 49701}, 'qnp': 140021, 'svh.vqt': 312305}, 'vmc.cdf': 84386, 'zgh': {'tchv': 138627}}}}, 'lbjvqv': {'bnl': {'gbv': {'lsprzlbf': {'hlhp.rvp': 168615}, 'lsprzlbf.cfd': 36406}, 'lwfgnzz': {'cdpwjbpd': 149511}}}, 'lwfgnzz': {'dnltsq.fwv': 232898, 'hhfqgzfj.qvt': 181665, 'qfmhhvvq.prh': 62529, 'sqs': 57822}, 'sqs': 11312}, 'drwpfn': {'fvgw': {'tlzmplfl': {'vmc.cdf': 29740, 'wgrm.dst': 30062, 'zqr': 181738}}, 'lsprzlbf': {'lcqhctjl': {'bcfr.gpf': 209114}, 'ldr': {'fzh.pqm': 148649}, 'tjslbpb': {'dnltsq.fwv': 241013}}, 'lwfgnzz': {'cdctnn': 288335, 'tchv': 67277}, 'nqvlqd.mdb': 104745, 'qqpmz': 203189, 'tchv': 159549, 'tjslbpb': {'pblzrspg': {'pgl': {'lwfgnzz.jdz': 305421, 'tjslbpb': 114244, 'vzff': {'rlww.htq': 80591, 'sqs': 86968}}}, 'qqgddb': {'szfw': {'jtw': {'szfw.lzp': 263}}}, 'sqs': 86103, 'tjslbpb.wrs': 183539}, 'wnrns': {'dnltsq.fwv': 203725, 'qrg.fnt': 77752}}, 'hhfqgzfj.qvt': 301956, 'jvcgnbs': {'lwfgnzz.svf': 296356, 'ptvdsngf': 294928}, 'lsprzlbf': {'lwfgnzz': {'tchv': 105095}, 'tjslbpb': {'hhfqgzfj.qvt': 53558, 'szfw': 189180}}, 'pdzlnm': {'jwttcp.rjj': 76426, 'lsprzlbf': {'vgdr': 71362}, 'qldhzf': {'lsprzlbf.rbq': 303106}, 'rtdsjf': {'pzbgwrdm.lwt': 45781, 'rzc': {'qqvlp': 297081, 'zthlr': 86015}}, 'sfdtljj': {'ftw.fwg': 254377, 'jvcgnbs': {'bzpvvlsn.gvt': 92642}, 'lwfgnzz.dws': 153393, 'pnphc': {'lwfgnzz': 288388}, 'wslttcn': 220821}, 'slhl.jst': 69033}, 'tchv': 161886, 'vmc.cdf': 153858, 'wghtg': 87849, 'zhgchnld': {'ftgrpj.srl': 16588, 'vmc.cdf': 112044}}, 'mzdqcb': {'bfphcs': {'wzt.qtr': 124148}, 'cgjmj': {'ddjdbdf': 28095, 'jvcgnbs': {'crmsnch': {'lsprzlbf.prh': 195745, 'tjslbpb': 271424, 'vmc.cdf': 227054}, 'jvcgnbs': {'vmc.cdf': 294249}}, 'sqs': 169536, 'svbsrj': {'cspzcpqs': 49038, 'czltsqrg': {'dnltsq.fwv': 207690, 'lnns.hsv': 208745, 'rgmjszf.vtd': 40703}, 'ljhljcw': 98084, 'ntdjg': {'szfw': {'qzwptr.ggb': 284994}}, 'szfw.lpj': 202570}, 'vmc.cdf': 159511}, 'jgcqqsh': {'djfwggvp': 2462}, 'jvcgnbs': {'ftjprdj': {'wnmhs': {'tjslbpb': {'jvcgnbs': {'dnltsq.fwv': 160761}}}}, 'zhlrstpt': 289965}, 'lccjbtqs': {'jjrdbgtg': {'bdvbjs.sjp': 237358}, 'sqs': 77186, 'szfw.qjt': 116398, 'vmc.cdf': 182665, 'vqdjwsh': 248366}, 'lwfgnzz': {'ggptdvr': {'vmc.cdf': 184198}, 'jnb': {'dnltsq.fwv': 296536, 'jvcgnbs.cvq': 91419, 'rwt.wth': 279635}, 'lcpmzpr': {'hhfqgzfj.qvt': 184769, 'qwqcbdms': {'jgm.tfm': 232132, 'jnfmcnfh': {'rngnt': {'hhfqgzfj.qvt': 236114}}, 'mwrbndt': 173727, 'qshphcb': {'lsprzlbf.hpd': 78407}, 'tjslbpb': {'brbz': 30200, 'jvcgnbs.vwl': 171368, 'sqs': 236158, 'srfwnmb': 285872, 'znr': {'hhfqgzfj.qvt': 108194}}}, 'tjslbpb.bnc': 236533, 'vmvctfnw': 162397, 'wcc': {'jvcgnbs': 167768, 'lgthn.cjn': 289640, 'lwfgnzz.chf': 28517, 'nvgfwn': {'hgnv.ssj': 270370, 'lwfgnzz.nfv': 98235}, 'rrg': 43738, 'sqs': 81011}}, 'lsprzlbf': 222506, 'qbjfqh': 293605, 'smvwg': {'jvcgnbs': {'bqcnj.zzv': 287955, 'bsrtmzd': 119021, 'cnngp.mbf': 3391, 'qjmb.vjz': 68540, 'tchv': 149062}, 'tchv': 77510, 'tgrm': {'qzth': 112315, 'scqp': 277566}}, 'tchv': 291643, 'vwdstb.pdw': 247095, 'wghpmnm': {'hpm': {'hhfqgzfj.qvt': 113354}}, 'wtrbfrj': {'ggrsgzvv': {'dpv': {'dmd': 233264, 'fzlchpb': {'pdmzrs.rll': 150431}, 'gwmspnm.qtp': 293097, 'jbbnssc.nnv': 100283}, 'gqtsmnr': {'jdml': {'bwm.dnt': 148333, 'lsprzlbf': {'cslvm': {'vmc.cdf': 266380}, 'lwfgnzz': {'tzghdrd': {'tjslbpb': {'jvcgnbs': {'sqs': 18188}}, 'vhv': {'jhhblnn.vzt': 95547, 'srgh': {'lsprzlbf.dnr': 299624}}}}, 'rllt': {'crpcbl': {'dfds.mzh': 209445}, 'dnltsq.fwv': 308185, 'szfw': {'lsprzlbf': {'tzrvpv': 291090}, 'vmc.cdf': 159720}}, 'sqs': 265856, 'szfw': {'fbrtbfjm': 113605}, 'tchv': 56452}}, 'jfqtjt': {'hhfqgzfj.qvt': 119124, 'jvcgnbs.zfm': 251412, 'rbv': {'dzssgm.pqn': 300632}, 'tjslbpb': {'pswrb.bsw': 221545}, 'tjslbpb.czt': 142371, 'vmc.cdf': 65455, 'zjmtjsv': 47786}, 'lwfgnzz': {'wshbr.spm': 34086}, 'tjslbpb': {'djfwjd.fvl': 118394, 'qmgcpdr.qjz': 65377, 'tchv': 146317}}, 'lsprzlbf': {'clqmgmq.gbw': 195086, 'cpgjgbdf': {'vzddwsr': {'nwgfs': 91787}}, 'jmwshtg.snl': 109787, 'lsprzlbf': 305108, 'szfw': {'tjslbpb': 193316}, 'szfw.qjq': 174614, 'vmcf.rsm': 105247}, 'pcjcm': {'lsprzlbf': {'hvrpj.cdc': 210834, 'wcnf': 29497}}, 'tchv': 137203, 'tns.sdh': 84711}, 'mvzzsl': {'rnrtf': {'btwgwrp.ctj': 221025}}, 'szfw': {'jvcgnbs': {'lwfgnzz.nvf': 250409, 'tchv': 66638, 'tlms': {'lsprzlbf.pcm': 84192, 'nwqzqcmw.rls': 107549, 'svdqvwcz': 97234}}, 'szfw': {'zsflqrtc': 45362}, 'tjslbpb': 31365}, 'vsqjb': {'vvnzdcbb': {'tchv': 144027}}}}, 'pprvjm': {'hvst': {'svmvncf': 100531}, 'lwfgnzz.qfp': 137237, 'szfw': {'hhfqgzfj.qvt': 233868}}, 'szfw': {'tchv': 14971}, 'tjslbpb': {'lwfgnzz.wzv': 283684}, 'ztc': {'bwhfncdm': {'lwfgnzz.msn': 108615}, 'jvcgnbs': 161420, 'tchv': 135102}}, 'npppw': {'cwdz.tlb': 94593, 'jsswljc': 258598, 'nmmfzscz': 245674}, 'plmb': {'dwnpl': {'hhfqgzfj.qvt': 15993, 'vmc.cdf': 264944}, 'lwfgnzz': {'cnbmh.hsh': 154801}}, 'rfgtcj.tdn': 6337, 'szfw': {'lsprzlbf': 173334, 'lwfgnzz': {'jgwzcgd': {'jvcgnbs': {'cntlhf.mqq': 131852, 'dnltsq.fwv': 217305, 'jvcgnbs.njb': 174110, 'lwfgnzz.mth': 179602, 'pzcssdhv': {'gjfwbwnv': 187518, 'lsprzlbf': 115671}, 'qcmqmnpn': {'dlns': 197002, 'mmpp.ggt': 40030, 'tchv': 198158}, 'szfw': 227361, 'wmhhl': {'hhfqgzfj.qvt': 168011}}, 'nvtvcf': {'rrzjjjhc': {'sqs': 33548}}}, 'qgdcjq': {'prshd.qdj': 252274}, 'spwcmrl': {'lslmr': {'rrvwsbl': 172247}, 'szfw': {'rnq': 192729}, 'tchv': 135076, 'vmc.cdf': 265608}}, 'szfw': 70693}, 'vmc.cdf': 230140}, {'lsprzlbf': 173334, 'lwfgnzz': {'jgwzcgd': {'jvcgnbs': {'cntlhf.mqq': 131852, 'dnltsq.fwv': 217305, 'jvcgnbs.njb': 174110, 'lwfgnzz.mth': 179602, 'pzcssdhv': {'gjfwbwnv': 187518, 'lsprzlbf': 115671}, 'qcmqmnpn': {'dlns': 197002, 'mmpp.ggt': 40030, 'tchv': 198158}, 'szfw': 227361, 'wmhhl': {'hhfqgzfj.qvt': 168011}}, 'nvtvcf': {'rrzjjjhc': {'sqs': 33548}}}, 'qgdcjq': {'prshd.qdj': 252274}, 'spwcmrl': {'lslmr': {'rrvwsbl': 172247}, 'szfw': {'rnq': 192729}, 'tchv': 135076, 'vmc.cdf': 265608}}, 'szfw': 70693}, {'jgwzcgd': {'jvcgnbs': {'cntlhf.mqq': 131852, 'dnltsq.fwv': 217305, 'jvcgnbs.njb': 174110, 'lwfgnzz.mth': 179602, 'pzcssdhv': {'gjfwbwnv': 187518, 'lsprzlbf': 115671}, 'qcmqmnpn': {'dlns': 197002, 'mmpp.ggt': 40030, 'tchv': 198158}, 'szfw': 227361, 'wmhhl': {'hhfqgzfj.qvt': 168011}}, 'nvtvcf': {'rrzjjjhc': {'sqs': 33548}}}, 'qgdcjq': {'prshd.qdj': 252274}, 'spwcmrl': {'lslmr': {'rrvwsbl': 172247}, 'szfw': {'rnq': 192729}, 'tchv': 135076, 'vmc.cdf': 265608}}, {'lslmr': {'rrvwsbl': 172247}, 'szfw': {'rnq': 192729}, 'tchv': 135076, 'vmc.cdf': 265608}]\n"
     ]
    }
   ],
   "source": [
    "# print(data)\n",
    "pwd = root = {}\n",
    "stack = []\n",
    "# total_size = defaultdict(int)\n",
    "for i in data:\n",
    "    b = i.split(\" \")\n",
    "    match b:\n",
    "        case \"$\", \"cd\", \"/\":\n",
    "            pwd = root\n",
    "            stack = []\n",
    "        case \"$\", \"cd\", \"..\":\n",
    "            pwd = stack.pop()\n",
    "            #print(\" \"*len(pwd), end=\"\")\n",
    "            #print(poped)\n",
    "        case \"$\", \"cd\", dir_name:\n",
    "            if dir_name not in pwd:\n",
    "                pwd[dir_name] = {}\n",
    "            stack.append(pwd)\n",
    "            pwd = pwd[dir_name]\n",
    "            #print(\" \"*len(pwd), end=\"\")\n",
    "            #print(dir_name)\n",
    "        case \"$\", \"ls\":\n",
    "            continue\n",
    "        case \"dir\", x:\n",
    "            #print(pwd)\n",
    "            if x not in pwd:\n",
    "                pwd[x] = {}\n",
    "            \n",
    "            \n",
    "            #print(\" \"*len(pwd), end=\"\")\n",
    "            #print(_)\n",
    "        case size, _name:\n",
    "            pwd[_name] = int(size)\n",
    "            #print(\" \"*len(pwd), end=\"\")\n",
    "            #print(\"Size: \", size, \"Name: \", _name)\n",
    "            \n",
    "                #total_size[dir_] += int(size)\n",
    "\n",
    "print(stack)\n"
   ]
  },
  {
   "cell_type": "code",
   "execution_count": 112,
   "metadata": {},
   "outputs": [
    {
     "data": {
      "text/plain": [
       "0"
      ]
     },
     "execution_count": 112,
     "metadata": {},
     "output_type": "execute_result"
    }
   ],
   "source": [
    "sum(filter(lambda a: a <= 100000, total_size.values()))"
   ]
  },
  {
   "cell_type": "code",
   "execution_count": 113,
   "metadata": {},
   "outputs": [],
   "source": [
    "def solve(dir = root):\n",
    "    if type(dir) == int:\n",
    "        return (dir, 0)\n",
    "    size = 0\n",
    "    ans = 0\n",
    "    for child in dir.values():\n",
    "        s, a = solve(child)\n",
    "        size += s\n",
    "        ans += a\n",
    "    if size <= 100000:\n",
    "        ans += size\n",
    "    return (size, ans)\n",
    "    "
   ]
  },
  {
   "cell_type": "code",
   "execution_count": 25,
   "metadata": {},
   "outputs": [],
   "source": [
    "a = defaultdict(int\n",
    "               )"
   ]
  },
  {
   "cell_type": "code",
   "execution_count": 114,
   "metadata": {},
   "outputs": [
    {
     "name": "stdout",
     "output_type": "stream",
     "text": [
      "41272621 1644735\n"
     ]
    }
   ],
   "source": [
    "total_used_space, resp_part_1 = solve()\n",
    "print(total_used_space, resp_part_1)"
   ]
  },
  {
   "cell_type": "markdown",
   "metadata": {},
   "source": [
    "## Part 2"
   ]
  },
  {
   "cell_type": "code",
   "execution_count": 115,
   "metadata": {},
   "outputs": [
    {
     "data": {
      "text/plain": [
       "28727379"
      ]
     },
     "execution_count": 115,
     "metadata": {},
     "output_type": "execute_result"
    }
   ],
   "source": [
    "needs_to_free = 70_000_000 - total_used_space\n",
    "needs_to_free"
   ]
  },
  {
   "cell_type": "code",
   "execution_count": 125,
   "metadata": {},
   "outputs": [],
   "source": [
    "def size(dir = root):\n",
    "    if type(dir) == int:\n",
    "        return dir\n",
    "    return sum(map(size, dir.values()))\n",
    "\n",
    "t = size() - 40_000_000\n",
    "\n",
    "def solve_2(dir = root):\n",
    "    ans = float(\"inf\")\n",
    "    if size(dir) >= t:\n",
    "        ans = size(dir)\n",
    "    for child in dir.values():\n",
    "        if type(child) == int:\n",
    "            continue\n",
    "        \n",
    "        q = solve_2(child)\n",
    "        ans = min(ans, q)\n",
    "    return ans"
   ]
  },
  {
   "cell_type": "code",
   "execution_count": 126,
   "metadata": {},
   "outputs": [
    {
     "data": {
      "text/plain": [
       "1300850"
      ]
     },
     "execution_count": 126,
     "metadata": {},
     "output_type": "execute_result"
    }
   ],
   "source": [
    "solve_2()"
   ]
  },
  {
   "cell_type": "code",
   "execution_count": null,
   "metadata": {},
   "outputs": [],
   "source": []
  }
 ],
 "metadata": {
  "kernelspec": {
   "display_name": "jupyter_3_11",
   "language": "python",
   "name": "jupyter_3_11"
  },
  "language_info": {
   "codemirror_mode": {
    "name": "ipython",
    "version": 3
   },
   "file_extension": ".py",
   "mimetype": "text/x-python",
   "name": "python",
   "nbconvert_exporter": "python",
   "pygments_lexer": "ipython3",
   "version": "3.11.0"
  }
 },
 "nbformat": 4,
 "nbformat_minor": 4
}
