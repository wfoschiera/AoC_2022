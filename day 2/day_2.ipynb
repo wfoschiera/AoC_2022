{
 "cells": [
  {
   "cell_type": "markdown",
   "metadata": {},
   "source": [
    "## Read data"
   ]
  },
  {
   "cell_type": "code",
   "execution_count": 12,
   "metadata": {},
   "outputs": [],
   "source": [
    "with open(\"input.txt\", 'r') as txt_input:\n",
    "  data = txt_input.read()"
   ]
  },
  {
   "cell_type": "code",
   "execution_count": 15,
   "metadata": {},
   "outputs": [],
   "source": [
    "# rules\n",
    "result_map = {\n",
    "    'A X': \"draw\",\n",
    "    'A Y': \"win\",\n",
    "    'A Z': \"lost\",\n",
    "    'B X': \"lost\",\n",
    "    'B Y': \"draw\",\n",
    "    'B Z': \"win\",\n",
    "    'C X': \"win\",    \n",
    "    'C Z': \"draw\",\n",
    "    'C Y': \"lost\",\n",
    "}\n",
    "choices_points = dict(X=1,\n",
    "                      Y=2,\n",
    "                      Z=3)\n",
    "match_points = dict(lost=0,\n",
    "                    draw=3,\n",
    "                    win=6)\n"
   ]
  },
  {
   "cell_type": "code",
   "execution_count": 16,
   "metadata": {},
   "outputs": [],
   "source": [
    "def get_match_point(result):\n",
    "    return int(match_points[result])"
   ]
  },
  {
   "cell_type": "code",
   "execution_count": 17,
   "metadata": {},
   "outputs": [
    {
     "name": "stdout",
     "output_type": "stream",
     "text": [
      "8933\n"
     ]
    }
   ],
   "source": [
    "total=0\n",
    "data_list = (data.split(\"\\n\"))\n",
    "for i,l in enumerate(data_list):\n",
    "    if l == '': continue\n",
    "    points_match = get_match_point(result_map[l])\n",
    "    choice = l.split(\" \")[1]\n",
    "    choices = choices_points[choice]\n",
    "    total += (points_match + choices)\n",
    "print(total)"
   ]
  },
  {
   "cell_type": "markdown",
   "metadata": {},
   "source": [
    "## PARTE 2"
   ]
  },
  {
   "cell_type": "markdown",
   "metadata": {},
   "source": [
    "A -> 1\n",
    "\n",
    "B -> 2\n",
    "\n",
    "C -> 3\n",
    "\n",
    "X - perde  -> 0\n",
    "\n",
    "Y - empata -> 3\n",
    "\n",
    "Z - ganha  -> 6\n"
   ]
  },
  {
   "cell_type": "code",
   "execution_count": 6,
   "metadata": {},
   "outputs": [],
   "source": [
    "# Ex. If I have to lose \"X\", so if the elf plays A (Rock), I've to play C (Scissor)\n",
    "my_choice_map = {\n",
    "    'Y':{\"A\": \"A\", \"B\": \"B\", \"C\":\"C\"}, # draw\n",
    "    'X': {\"A\": \"C\", \"B\": \"A\", \"C\":\"B\"}, # lose\n",
    "    'Z': {\"A\": \"B\", \"B\":\"C\", \"C\": \"A\"} # win\n",
    "}\n",
    "\n",
    "choices_points = dict(A=1,\n",
    "                      B=2,\n",
    "                      C=3)\n",
    "match_points = dict(X=0,\n",
    "                    Y=3,\n",
    "                    Z=6)"
   ]
  },
  {
   "cell_type": "code",
   "execution_count": 10,
   "metadata": {},
   "outputs": [
    {
     "name": "stdout",
     "output_type": "stream",
     "text": [
      "11998\n"
     ]
    }
   ],
   "source": [
    "total=0\n",
    "data_list = (data.split(\"\\n\"))\n",
    "for i,l in enumerate(data_list):\n",
    "    if l == '': continue\n",
    "    elf_choice, result = l.split(\" \")\n",
    "    points_match = match_point(result)\n",
    "    my_choice = my_choice_map[result][elf_choice]\n",
    "    choices = choices_points[my_choice]\n",
    "    round_points = points_match + choices\n",
    "    total += (points_match + choices)\n",
    "print(total)"
   ]
  }
 ],
 "metadata": {
  "kernelspec": {
   "display_name": "Python 3",
   "language": "python",
   "name": "python3"
  },
  "language_info": {
   "codemirror_mode": {
    "name": "ipython",
    "version": 3
   },
   "file_extension": ".py",
   "mimetype": "text/x-python",
   "name": "python",
   "nbconvert_exporter": "python",
   "pygments_lexer": "ipython3",
   "version": "3.8.10"
  }
 },
 "nbformat": 4,
 "nbformat_minor": 4
}
